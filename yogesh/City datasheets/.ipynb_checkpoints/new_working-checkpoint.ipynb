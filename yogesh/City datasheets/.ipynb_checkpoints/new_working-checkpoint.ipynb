{
 "cells": [
  {
   "cell_type": "markdown",
   "id": "a5184291-0e56-4f81-9179-7f675c9dab62",
   "metadata": {},
   "source": [
    "# problem statement "
   ]
  },
  {
   "cell_type": "markdown",
   "id": "86562106-c287-4cd6-9f2b-0ac1ead114c8",
   "metadata": {},
   "source": []
  },
  {
   "cell_type": "markdown",
   "id": "f229c975-c4e1-4747-b7f5-a9bead817c43",
   "metadata": {
    "jp-MarkdownHeadingCollapsed": true
   },
   "source": [
    "### 1.IMPORT REQUIRED LIBRARYS\n",
    "\n"
   ]
  },
  {
   "cell_type": "code",
   "execution_count": 2,
   "id": "66b3a861-6792-470a-9d10-394afbd438be",
   "metadata": {},
   "outputs": [],
   "source": [
    "import numpy as np\n",
    "import pandas as pd\n",
    "import matplotlib.pyplot as plt\n",
    "import seaborn as sns\n",
    "import os "
   ]
  },
  {
   "cell_type": "code",
   "execution_count": null,
   "id": "f6fb225e-ba38-447c-9964-b7a6e0ad4bb3",
   "metadata": {},
   "outputs": [],
   "source": []
  },
  {
   "cell_type": "markdown",
   "id": "4807b049-b5b1-46d6-9f5e-d02c9808750c",
   "metadata": {},
   "source": [
    "###  2.READING THE DATA "
   ]
  },
  {
   "cell_type": "code",
   "execution_count": 221,
   "id": "66cab277-f7f9-4df5-bad8-9993f4fd84e1",
   "metadata": {},
   "outputs": [],
   "source": [
    "def get_data():\n",
    "\n",
    "    #Noida  city csv file:\n",
    "    jaipur=pd.read_csv('jaipur.csv')\n",
    "    \n",
    "    #Noida  city csv file:\n",
    "    bhopal=pd.read_csv('bhopal.csv')\n",
    "\n",
    "    \n",
    "    #Noida  city csv file:\n",
    "    vadodara=pd.read_csv('vadodara.csv')\n",
    "\n",
    "    \n",
    "    #Noida  city csv file:\n",
    "    surat=pd.read_csv('surat.csv')\n",
    "\n",
    "    \n",
    "    #Noida  city csv file:\n",
    "    kanpur=pd.read_csv('kanpur.csv')\n",
    "\n",
    "    \n",
    "    #Noida  city csv file:\n",
    "    Guwahati=pd.read_csv('Guwahati.csv')\n",
    "\n",
    "     #Noida  city csv file:\n",
    "    Faridabad=pd.read_csv('Faridabad.csv')\n",
    "\n",
    "    \n",
    "\n",
    "\n",
    "    \n",
    "\n",
    "    #Noida  city csv file:\n",
    "    Lucknow=pd.read_csv('Lucknow.csv')\n",
    "\n",
    "    #indore  city csv file:\n",
    "    indore=pd.read_csv('indore.csv')\n",
    "\n",
    "    #Noida  city csv file:\n",
    "    Noida=pd.read_csv('Noida.csv')\n",
    "\n",
    "    #Ghaziyabad  city csv file:\n",
    "    Ghaziyabad=pd.read_csv('Ghaziyabad.csv')\n",
    "\n",
    "    # Ahmadabad city csv file:\n",
    "    Ahmadabad=pd.read_csv('Ahmadabad.csv')\n",
    "    \n",
    "\n",
    "    # kolkata city csv file:\n",
    "    kolkata=pd.read_csv('kolkata.csv')\n",
    "\n",
    "    \n",
    "    # Hydrabadcity csv file:\n",
    "    hyderabad=pd.read_csv('hyderabad.csv')\n",
    "    \n",
    "    \n",
    "    # gurgaoncity csv file:\n",
    "    gurgaon=pd.read_csv('gurgaon.csv')\n",
    "\n",
    "    # Delhi city csv file:\n",
    "    Delhi=pd.read_csv('Delhi.csv')\n",
    "    \n",
    "    # Chennai city csv file:\n",
    "    Chennai=pd.read_csv('Chennai.csv')\n",
    "\n",
    "    # Banglore city csv file:\n",
    "    Banglore=pd.read_csv('Banglore.csv')\n",
    "    \n",
    "    # pune city csv file:\n",
    "    pune=pd.read_csv('pune.csv')\n",
    "    \n",
    "    # mumbai city csv file:\n",
    "    mumbai=pd.read_csv('mumbai.csv')\n",
    "\n",
    "   ### merge alll above city into one dataframe:\n",
    "    return  pd.concat([mumbai,pune,Banglore,Chennai,Delhi,gurgaon,hyderabad,kolkata,Ahmadabad,Ghaziyabad,Noida,indore,Lucknow,jaipur,bhopal,vadodara,surat,kanpur,Guwahati,Faridabad],ignore_index=True)\n",
    "\n",
    "    \n",
    "    "
   ]
  },
  {
   "cell_type": "code",
   "execution_count": 222,
   "id": "b0a20f16-1f21-4188-858e-66ba60296053",
   "metadata": {},
   "outputs": [],
   "source": [
    "data=get_data()"
   ]
  },
  {
   "cell_type": "code",
   "execution_count": 223,
   "id": "572a96de-55da-4eb4-ab48-99c58cac4b84",
   "metadata": {},
   "outputs": [
    {
     "data": {
      "text/html": [
       "<div>\n",
       "<style scoped>\n",
       "    .dataframe tbody tr th:only-of-type {\n",
       "        vertical-align: middle;\n",
       "    }\n",
       "\n",
       "    .dataframe tbody tr th {\n",
       "        vertical-align: top;\n",
       "    }\n",
       "\n",
       "    .dataframe thead th {\n",
       "        text-align: right;\n",
       "    }\n",
       "</style>\n",
       "<table border=\"1\" class=\"dataframe\">\n",
       "  <thead>\n",
       "    <tr style=\"text-align: right;\">\n",
       "      <th></th>\n",
       "      <th>broker_consultancy</th>\n",
       "      <th>Rent</th>\n",
       "      <th>Builtup Area</th>\n",
       "      <th>appartment_type</th>\n",
       "      <th>Deposit</th>\n",
       "      <th>Bathrooms</th>\n",
       "      <th>Facing</th>\n",
       "      <th>Address</th>\n",
       "      <th>Apartment Name</th>\n",
       "      <th>Status</th>\n",
       "    </tr>\n",
       "  </thead>\n",
       "  <tbody>\n",
       "    <tr>\n",
       "      <th>0</th>\n",
       "      <td>Kasturi Developers\\nBUILDER\\n-</td>\n",
       "      <td>20,000</td>\n",
       "      <td>1132</td>\n",
       "      <td>2</td>\n",
       "      <td>No Deposit</td>\n",
       "      <td>2 bathrooms</td>\n",
       "      <td>NorthEast facing</td>\n",
       "      <td>Ulwe, Mumbai</td>\n",
       "      <td>EV Castle</td>\n",
       "      <td>Unfurnished</td>\n",
       "    </tr>\n",
       "    <tr>\n",
       "      <th>1</th>\n",
       "      <td>Kasturi Developers\\nBUILDER\\n-</td>\n",
       "      <td>20,000</td>\n",
       "      <td>1200</td>\n",
       "      <td>2</td>\n",
       "      <td>No Deposit</td>\n",
       "      <td>2 bathrooms</td>\n",
       "      <td>NorthEast facing</td>\n",
       "      <td>Ulwe, Mumbai</td>\n",
       "      <td>NaN</td>\n",
       "      <td>Unfurnished</td>\n",
       "    </tr>\n",
       "    <tr>\n",
       "      <th>2</th>\n",
       "      <td>Kasturi Developers\\nBUILDER\\n-</td>\n",
       "      <td>30,000</td>\n",
       "      <td>1700</td>\n",
       "      <td>3</td>\n",
       "      <td>No Deposit</td>\n",
       "      <td>3 bathrooms</td>\n",
       "      <td>NorthEast facing</td>\n",
       "      <td>Ulwe, Mumbai</td>\n",
       "      <td>NaN</td>\n",
       "      <td>Semi-Furnished</td>\n",
       "    </tr>\n",
       "    <tr>\n",
       "      <th>3</th>\n",
       "      <td>Seller\\nVERIFIED OWNER</td>\n",
       "      <td>28,500</td>\n",
       "      <td>750</td>\n",
       "      <td>2</td>\n",
       "      <td>No Deposit</td>\n",
       "      <td>2 bathrooms</td>\n",
       "      <td>NaN</td>\n",
       "      <td>Kandivali West, Mumbai</td>\n",
       "      <td>Atul Blue Arch</td>\n",
       "      <td>Unfurnished</td>\n",
       "    </tr>\n",
       "    <tr>\n",
       "      <th>4</th>\n",
       "      <td>Seller\\nVERIFIED OWNER</td>\n",
       "      <td>50,000</td>\n",
       "      <td>1400</td>\n",
       "      <td>3</td>\n",
       "      <td>No Deposit</td>\n",
       "      <td>3 bathrooms</td>\n",
       "      <td>East facing</td>\n",
       "      <td>Chembur, Mumbai</td>\n",
       "      <td>Godrej Prime</td>\n",
       "      <td>Semi-Furnished</td>\n",
       "    </tr>\n",
       "    <tr>\n",
       "      <th>...</th>\n",
       "      <td>...</td>\n",
       "      <td>...</td>\n",
       "      <td>...</td>\n",
       "      <td>...</td>\n",
       "      <td>...</td>\n",
       "      <td>...</td>\n",
       "      <td>...</td>\n",
       "      <td>...</td>\n",
       "      <td>...</td>\n",
       "      <td>...</td>\n",
       "    </tr>\n",
       "    <tr>\n",
       "      <th>82011</th>\n",
       "      <td>Seller\\nVERIFIED OWNER</td>\n",
       "      <td>11,000</td>\n",
       "      <td>1100</td>\n",
       "      <td>2</td>\n",
       "      <td>11,000 deposit</td>\n",
       "      <td>2 bathrooms</td>\n",
       "      <td>NaN</td>\n",
       "      <td>Sector 2, Faridabad</td>\n",
       "      <td>NaN</td>\n",
       "      <td>Unfurnished</td>\n",
       "    </tr>\n",
       "    <tr>\n",
       "      <th>82012</th>\n",
       "      <td>Seller\\nVERIFIED OWNER</td>\n",
       "      <td>9,000</td>\n",
       "      <td>900</td>\n",
       "      <td>2</td>\n",
       "      <td>9,000 deposit</td>\n",
       "      <td>2 bathrooms</td>\n",
       "      <td>NaN</td>\n",
       "      <td>Sector 91, Faridabad</td>\n",
       "      <td>Gupta Surya Nagar 2</td>\n",
       "      <td>Semi-Furnished</td>\n",
       "    </tr>\n",
       "    <tr>\n",
       "      <th>82013</th>\n",
       "      <td>Seller\\nVERIFIED OWNER</td>\n",
       "      <td>22,000</td>\n",
       "      <td>2727</td>\n",
       "      <td>4</td>\n",
       "      <td>22,000 deposit</td>\n",
       "      <td>4 bathrooms</td>\n",
       "      <td>NaN</td>\n",
       "      <td>Sector 76, Faridabad</td>\n",
       "      <td>NaN</td>\n",
       "      <td>Semi-Furnished</td>\n",
       "    </tr>\n",
       "    <tr>\n",
       "      <th>82014</th>\n",
       "      <td>Seller\\nVERIFIED OWNER</td>\n",
       "      <td>11,000</td>\n",
       "      <td>600</td>\n",
       "      <td>2</td>\n",
       "      <td>No Deposit</td>\n",
       "      <td>2 bathrooms</td>\n",
       "      <td>NaN</td>\n",
       "      <td>Sector 88, Faridabad</td>\n",
       "      <td>NaN</td>\n",
       "      <td>Semi-Furnished</td>\n",
       "    </tr>\n",
       "    <tr>\n",
       "      <th>82015</th>\n",
       "      <td>Seller\\nVERIFIED OWNER</td>\n",
       "      <td>40,000</td>\n",
       "      <td>1900</td>\n",
       "      <td>3</td>\n",
       "      <td>No Deposit</td>\n",
       "      <td>3 bathrooms</td>\n",
       "      <td>NorthEast facing</td>\n",
       "      <td>Sector 79, Faridabad</td>\n",
       "      <td>Omaxe Royal Residency</td>\n",
       "      <td>Semi-Furnished</td>\n",
       "    </tr>\n",
       "  </tbody>\n",
       "</table>\n",
       "<p>82016 rows × 10 columns</p>\n",
       "</div>"
      ],
      "text/plain": [
       "                   broker_consultancy    Rent  Builtup Area  appartment_type  \\\n",
       "0      Kasturi Developers\\nBUILDER\\n-  20,000          1132                2   \n",
       "1      Kasturi Developers\\nBUILDER\\n-  20,000          1200                2   \n",
       "2      Kasturi Developers\\nBUILDER\\n-  30,000          1700                3   \n",
       "3              Seller\\nVERIFIED OWNER  28,500           750                2   \n",
       "4              Seller\\nVERIFIED OWNER  50,000          1400                3   \n",
       "...                               ...     ...           ...              ...   \n",
       "82011          Seller\\nVERIFIED OWNER  11,000          1100                2   \n",
       "82012          Seller\\nVERIFIED OWNER   9,000           900                2   \n",
       "82013          Seller\\nVERIFIED OWNER  22,000          2727                4   \n",
       "82014          Seller\\nVERIFIED OWNER  11,000           600                2   \n",
       "82015          Seller\\nVERIFIED OWNER  40,000          1900                3   \n",
       "\n",
       "              Deposit    Bathrooms            Facing                 Address  \\\n",
       "0          No Deposit  2 bathrooms  NorthEast facing            Ulwe, Mumbai   \n",
       "1          No Deposit  2 bathrooms  NorthEast facing            Ulwe, Mumbai   \n",
       "2          No Deposit  3 bathrooms  NorthEast facing            Ulwe, Mumbai   \n",
       "3          No Deposit  2 bathrooms               NaN  Kandivali West, Mumbai   \n",
       "4          No Deposit  3 bathrooms       East facing         Chembur, Mumbai   \n",
       "...               ...          ...               ...                     ...   \n",
       "82011  11,000 deposit  2 bathrooms               NaN     Sector 2, Faridabad   \n",
       "82012   9,000 deposit  2 bathrooms               NaN    Sector 91, Faridabad   \n",
       "82013  22,000 deposit  4 bathrooms               NaN    Sector 76, Faridabad   \n",
       "82014      No Deposit  2 bathrooms               NaN    Sector 88, Faridabad   \n",
       "82015      No Deposit  3 bathrooms  NorthEast facing    Sector 79, Faridabad   \n",
       "\n",
       "              Apartment Name          Status  \n",
       "0                  EV Castle     Unfurnished  \n",
       "1                        NaN     Unfurnished  \n",
       "2                        NaN  Semi-Furnished  \n",
       "3             Atul Blue Arch     Unfurnished  \n",
       "4               Godrej Prime  Semi-Furnished  \n",
       "...                      ...             ...  \n",
       "82011                    NaN     Unfurnished  \n",
       "82012    Gupta Surya Nagar 2  Semi-Furnished  \n",
       "82013                    NaN  Semi-Furnished  \n",
       "82014                    NaN  Semi-Furnished  \n",
       "82015  Omaxe Royal Residency  Semi-Furnished  \n",
       "\n",
       "[82016 rows x 10 columns]"
      ]
     },
     "execution_count": 223,
     "metadata": {},
     "output_type": "execute_result"
    }
   ],
   "source": [
    "data"
   ]
  },
  {
   "cell_type": "code",
   "execution_count": 224,
   "id": "2adefd71-07b3-48ec-b083-aac059b7a576",
   "metadata": {},
   "outputs": [
    {
     "name": "stdout",
     "output_type": "stream",
     "text": [
      "<class 'pandas.core.frame.DataFrame'>\n",
      "RangeIndex: 82016 entries, 0 to 82015\n",
      "Data columns (total 10 columns):\n",
      " #   Column              Non-Null Count  Dtype \n",
      "---  ------              --------------  ----- \n",
      " 0   broker_consultancy  82015 non-null  object\n",
      " 1   Rent                82016 non-null  object\n",
      " 2   Builtup Area        82016 non-null  int64 \n",
      " 3   appartment_type     82016 non-null  int64 \n",
      " 4   Deposit             82016 non-null  object\n",
      " 5   Bathrooms           81672 non-null  object\n",
      " 6   Facing              28451 non-null  object\n",
      " 7   Address             82016 non-null  object\n",
      " 8   Apartment Name      32734 non-null  object\n",
      " 9   Status              82016 non-null  object\n",
      "dtypes: int64(2), object(8)\n",
      "memory usage: 6.3+ MB\n"
     ]
    }
   ],
   "source": [
    "data.info()"
   ]
  },
  {
   "cell_type": "markdown",
   "id": "2b249002-7f6f-461b-b084-683af668b344",
   "metadata": {},
   "source": [
    "-   The data set contains 82,016 rows and 10 features\n",
    "-   column \"Bathrooms ,Facing,Appartment_Name,\" have lots of  missing values\n",
    "-   The data type of some features are not appropriate"
   ]
  },
  {
   "cell_type": "markdown",
   "id": "cc4f545f-87db-4e1f-a03c-5e2f21242c18",
   "metadata": {},
   "source": [
    "### 3.PREMLINARY DATA ANALYSIS"
   ]
  },
  {
   "cell_type": "markdown",
   "id": "8294e4b5-b64a-4488-b05a-f3ae69200da9",
   "metadata": {},
   "source": [
    "#### 3.1Check for datatype\n"
   ]
  },
  {
   "cell_type": "code",
   "execution_count": 225,
   "id": "d79faafb-38dc-41f5-9797-8df045b3d8f2",
   "metadata": {},
   "outputs": [
    {
     "data": {
      "text/html": [
       "<div>\n",
       "<style scoped>\n",
       "    .dataframe tbody tr th:only-of-type {\n",
       "        vertical-align: middle;\n",
       "    }\n",
       "\n",
       "    .dataframe tbody tr th {\n",
       "        vertical-align: top;\n",
       "    }\n",
       "\n",
       "    .dataframe thead th {\n",
       "        text-align: right;\n",
       "    }\n",
       "</style>\n",
       "<table border=\"1\" class=\"dataframe\">\n",
       "  <thead>\n",
       "    <tr style=\"text-align: right;\">\n",
       "      <th></th>\n",
       "      <th>broker_consultancy</th>\n",
       "      <th>Rent</th>\n",
       "      <th>Builtup Area</th>\n",
       "      <th>appartment_type</th>\n",
       "      <th>Deposit</th>\n",
       "      <th>Bathrooms</th>\n",
       "      <th>Facing</th>\n",
       "      <th>Address</th>\n",
       "      <th>Apartment Name</th>\n",
       "      <th>Status</th>\n",
       "    </tr>\n",
       "  </thead>\n",
       "  <tbody>\n",
       "    <tr>\n",
       "      <th>14862</th>\n",
       "      <td>Seller\\nOWNER</td>\n",
       "      <td>2.75 L</td>\n",
       "      <td>2250</td>\n",
       "      <td>4</td>\n",
       "      <td>No Deposit</td>\n",
       "      <td>4 bathrooms</td>\n",
       "      <td>East facing</td>\n",
       "      <td>Juhu, Mumbai</td>\n",
       "      <td>NaN</td>\n",
       "      <td>Semi-Furnished</td>\n",
       "    </tr>\n",
       "    <tr>\n",
       "      <th>40015</th>\n",
       "      <td>Adarsh Associates\\nAGENT\\n-</td>\n",
       "      <td>67,000</td>\n",
       "      <td>1000</td>\n",
       "      <td>2</td>\n",
       "      <td>No Deposit</td>\n",
       "      <td>2 bathrooms</td>\n",
       "      <td>NaN</td>\n",
       "      <td>Sarvodaya Enclave, Delhi</td>\n",
       "      <td>NaN</td>\n",
       "      <td>Furnished</td>\n",
       "    </tr>\n",
       "    <tr>\n",
       "      <th>67909</th>\n",
       "      <td>Seller\\nVERIFIED OWNER</td>\n",
       "      <td>15,000</td>\n",
       "      <td>1125</td>\n",
       "      <td>2</td>\n",
       "      <td>30,000 deposit</td>\n",
       "      <td>2 bathrooms</td>\n",
       "      <td>NaN</td>\n",
       "      <td>Hatkeshwar, Ahmedabad</td>\n",
       "      <td>NaN</td>\n",
       "      <td>Semi-Furnished</td>\n",
       "    </tr>\n",
       "    <tr>\n",
       "      <th>44203</th>\n",
       "      <td>Neon Properties\\nAGENT\\n-</td>\n",
       "      <td>65,000</td>\n",
       "      <td>1500</td>\n",
       "      <td>2</td>\n",
       "      <td>No Deposit</td>\n",
       "      <td>2 bathrooms</td>\n",
       "      <td>NorthEast facing</td>\n",
       "      <td>Neeti Bagh, Delhi</td>\n",
       "      <td>NaN</td>\n",
       "      <td>Semi-Furnished</td>\n",
       "    </tr>\n",
       "    <tr>\n",
       "      <th>31162</th>\n",
       "      <td>Seller\\nVERIFIED OWNER</td>\n",
       "      <td>18,000</td>\n",
       "      <td>1000</td>\n",
       "      <td>2</td>\n",
       "      <td>No Deposit</td>\n",
       "      <td>2 bathrooms</td>\n",
       "      <td>NaN</td>\n",
       "      <td>byatarayanapura, Bangalore</td>\n",
       "      <td>NaN</td>\n",
       "      <td>Semi-Furnished</td>\n",
       "    </tr>\n",
       "    <tr>\n",
       "      <th>...</th>\n",
       "      <td>...</td>\n",
       "      <td>...</td>\n",
       "      <td>...</td>\n",
       "      <td>...</td>\n",
       "      <td>...</td>\n",
       "      <td>...</td>\n",
       "      <td>...</td>\n",
       "      <td>...</td>\n",
       "      <td>...</td>\n",
       "      <td>...</td>\n",
       "    </tr>\n",
       "    <tr>\n",
       "      <th>33138</th>\n",
       "      <td>Seller\\nVERIFIED OWNER</td>\n",
       "      <td>14,000</td>\n",
       "      <td>700</td>\n",
       "      <td>2</td>\n",
       "      <td>No Deposit</td>\n",
       "      <td>2 bathrooms</td>\n",
       "      <td>NaN</td>\n",
       "      <td>Virugambakkam, Chennai</td>\n",
       "      <td>NaN</td>\n",
       "      <td>Semi-Furnished</td>\n",
       "    </tr>\n",
       "    <tr>\n",
       "      <th>74759</th>\n",
       "      <td>Seller\\nVERIFIED OWNER</td>\n",
       "      <td>60,000</td>\n",
       "      <td>3600</td>\n",
       "      <td>4</td>\n",
       "      <td>No Deposit</td>\n",
       "      <td>3 bathrooms</td>\n",
       "      <td>East facing</td>\n",
       "      <td>Sector 92, Noida</td>\n",
       "      <td>NaN</td>\n",
       "      <td>Furnished</td>\n",
       "    </tr>\n",
       "    <tr>\n",
       "      <th>37892</th>\n",
       "      <td>CK Home Solutions\\nAGENT\\n-</td>\n",
       "      <td>15,000</td>\n",
       "      <td>850</td>\n",
       "      <td>2</td>\n",
       "      <td>15,000 deposit</td>\n",
       "      <td>2 bathrooms</td>\n",
       "      <td>NaN</td>\n",
       "      <td>Shahdara, Delhi</td>\n",
       "      <td>NaN</td>\n",
       "      <td>Semi-Furnished</td>\n",
       "    </tr>\n",
       "    <tr>\n",
       "      <th>32789</th>\n",
       "      <td>GB Property\\nAGENT\\n-</td>\n",
       "      <td>10,000</td>\n",
       "      <td>720</td>\n",
       "      <td>2</td>\n",
       "      <td>No Deposit</td>\n",
       "      <td>2 bathrooms</td>\n",
       "      <td>NaN</td>\n",
       "      <td>Perumalpattu, Chennai</td>\n",
       "      <td>NaN</td>\n",
       "      <td>Unfurnished</td>\n",
       "    </tr>\n",
       "    <tr>\n",
       "      <th>58476</th>\n",
       "      <td>Seller\\nVERIFIED OWNER</td>\n",
       "      <td>9,000</td>\n",
       "      <td>600</td>\n",
       "      <td>3</td>\n",
       "      <td>No Deposit</td>\n",
       "      <td>1 bathrooms</td>\n",
       "      <td>NaN</td>\n",
       "      <td>Attapur, Hyderabad</td>\n",
       "      <td>The Premia</td>\n",
       "      <td>Furnished</td>\n",
       "    </tr>\n",
       "  </tbody>\n",
       "</table>\n",
       "<p>150 rows × 10 columns</p>\n",
       "</div>"
      ],
      "text/plain": [
       "                broker_consultancy    Rent  Builtup Area  appartment_type  \\\n",
       "14862                Seller\\nOWNER  2.75 L          2250                4   \n",
       "40015  Adarsh Associates\\nAGENT\\n-  67,000          1000                2   \n",
       "67909       Seller\\nVERIFIED OWNER  15,000          1125                2   \n",
       "44203    Neon Properties\\nAGENT\\n-  65,000          1500                2   \n",
       "31162       Seller\\nVERIFIED OWNER  18,000          1000                2   \n",
       "...                            ...     ...           ...              ...   \n",
       "33138       Seller\\nVERIFIED OWNER  14,000           700                2   \n",
       "74759       Seller\\nVERIFIED OWNER  60,000          3600                4   \n",
       "37892  CK Home Solutions\\nAGENT\\n-  15,000           850                2   \n",
       "32789        GB Property\\nAGENT\\n-  10,000           720                2   \n",
       "58476       Seller\\nVERIFIED OWNER   9,000           600                3   \n",
       "\n",
       "              Deposit    Bathrooms            Facing  \\\n",
       "14862      No Deposit  4 bathrooms       East facing   \n",
       "40015      No Deposit  2 bathrooms               NaN   \n",
       "67909  30,000 deposit  2 bathrooms               NaN   \n",
       "44203      No Deposit  2 bathrooms  NorthEast facing   \n",
       "31162      No Deposit  2 bathrooms               NaN   \n",
       "...               ...          ...               ...   \n",
       "33138      No Deposit  2 bathrooms               NaN   \n",
       "74759      No Deposit  3 bathrooms       East facing   \n",
       "37892  15,000 deposit  2 bathrooms               NaN   \n",
       "32789      No Deposit  2 bathrooms               NaN   \n",
       "58476      No Deposit  1 bathrooms               NaN   \n",
       "\n",
       "                          Address Apartment Name          Status  \n",
       "14862                Juhu, Mumbai            NaN  Semi-Furnished  \n",
       "40015    Sarvodaya Enclave, Delhi            NaN       Furnished  \n",
       "67909       Hatkeshwar, Ahmedabad            NaN  Semi-Furnished  \n",
       "44203           Neeti Bagh, Delhi            NaN  Semi-Furnished  \n",
       "31162  byatarayanapura, Bangalore            NaN  Semi-Furnished  \n",
       "...                           ...            ...             ...  \n",
       "33138      Virugambakkam, Chennai            NaN  Semi-Furnished  \n",
       "74759            Sector 92, Noida            NaN       Furnished  \n",
       "37892             Shahdara, Delhi            NaN  Semi-Furnished  \n",
       "32789       Perumalpattu, Chennai            NaN     Unfurnished  \n",
       "58476          Attapur, Hyderabad     The Premia       Furnished  \n",
       "\n",
       "[150 rows x 10 columns]"
      ]
     },
     "execution_count": 225,
     "metadata": {},
     "output_type": "execute_result"
    }
   ],
   "source": [
    "data.sample(150)"
   ]
  },
  {
   "cell_type": "code",
   "execution_count": 226,
   "id": "a0ce60da-7313-46f6-a4ba-372f92d1138e",
   "metadata": {},
   "outputs": [
    {
     "data": {
      "text/plain": [
       "broker_consultancy    object\n",
       "Rent                  object\n",
       "Builtup Area           int64\n",
       "appartment_type        int64\n",
       "Deposit               object\n",
       "Bathrooms             object\n",
       "Facing                object\n",
       "Address               object\n",
       "Apartment Name        object\n",
       "Status                object\n",
       "dtype: object"
      ]
     },
     "execution_count": 226,
     "metadata": {},
     "output_type": "execute_result"
    }
   ],
   "source": [
    "data.dtypes"
   ]
  },
  {
   "cell_type": "markdown",
   "id": "5997f33b-21f8-447b-8f90-fc17371f01ac",
   "metadata": {},
   "source": [
    "#### 3.2Check For Duplicates"
   ]
  },
  {
   "cell_type": "code",
   "execution_count": 227,
   "id": "18078ed9-c034-4eea-8d4f-32189bda6903",
   "metadata": {},
   "outputs": [
    {
     "data": {
      "text/plain": [
       "68994"
      ]
     },
     "execution_count": 227,
     "metadata": {},
     "output_type": "execute_result"
    }
   ],
   "source": [
    "data.duplicated().sum()"
   ]
  },
  {
   "cell_type": "code",
   "execution_count": 228,
   "id": "8078c562-e78c-47dc-a1b8-b6d1a3c16077",
   "metadata": {},
   "outputs": [],
   "source": [
    "duplicated_rows=(\n",
    "    data.loc[data.duplicated(keep=False)].sort_values([\"Rent\",\"Builtup Area\",\"appartment_type\",\"Bathrooms\",\"Facing\",\"Address\",\"Apartment Name\",\"Status\"])\n",
    ")"
   ]
  },
  {
   "cell_type": "code",
   "execution_count": 229,
   "id": "72d1a001-4432-4d4f-9fa1-40e1bce58bdf",
   "metadata": {},
   "outputs": [
    {
     "data": {
      "text/html": [
       "<div>\n",
       "<style scoped>\n",
       "    .dataframe tbody tr th:only-of-type {\n",
       "        vertical-align: middle;\n",
       "    }\n",
       "\n",
       "    .dataframe tbody tr th {\n",
       "        vertical-align: top;\n",
       "    }\n",
       "\n",
       "    .dataframe thead th {\n",
       "        text-align: right;\n",
       "    }\n",
       "</style>\n",
       "<table border=\"1\" class=\"dataframe\">\n",
       "  <thead>\n",
       "    <tr style=\"text-align: right;\">\n",
       "      <th></th>\n",
       "      <th>broker_consultancy</th>\n",
       "      <th>Rent</th>\n",
       "      <th>Builtup Area</th>\n",
       "      <th>appartment_type</th>\n",
       "      <th>Deposit</th>\n",
       "      <th>Bathrooms</th>\n",
       "      <th>Facing</th>\n",
       "      <th>Address</th>\n",
       "      <th>Apartment Name</th>\n",
       "      <th>Status</th>\n",
       "    </tr>\n",
       "  </thead>\n",
       "  <tbody>\n",
       "    <tr>\n",
       "      <th>65137</th>\n",
       "      <td>Seller\\nVERIFIED OWNER</td>\n",
       "      <td>12,500</td>\n",
       "      <td>800</td>\n",
       "      <td>2</td>\n",
       "      <td>No Deposit</td>\n",
       "      <td>2 bathrooms</td>\n",
       "      <td>South facing</td>\n",
       "      <td>Garia, Kolkata</td>\n",
       "      <td>NaN</td>\n",
       "      <td>Semi-Furnished</td>\n",
       "    </tr>\n",
       "    <tr>\n",
       "      <th>78061</th>\n",
       "      <td>Seller\\nVERIFIED OWNER</td>\n",
       "      <td>8,000</td>\n",
       "      <td>500</td>\n",
       "      <td>1</td>\n",
       "      <td>No Deposit</td>\n",
       "      <td>1 bathrooms</td>\n",
       "      <td>NaN</td>\n",
       "      <td>Triveni Nagar, Lucknow</td>\n",
       "      <td>NaN</td>\n",
       "      <td>Semi-Furnished</td>\n",
       "    </tr>\n",
       "    <tr>\n",
       "      <th>21575</th>\n",
       "      <td>Envision Realty\\nAGENT\\n0</td>\n",
       "      <td>37000</td>\n",
       "      <td>1100</td>\n",
       "      <td>3</td>\n",
       "      <td>No Deposit</td>\n",
       "      <td>3 bathrooms</td>\n",
       "      <td>NaN</td>\n",
       "      <td>Hinjewadi, Pune</td>\n",
       "      <td>Paranjape Blue Ridge Project E Land T24 And T25</td>\n",
       "      <td>Semi-Furnished</td>\n",
       "    </tr>\n",
       "    <tr>\n",
       "      <th>66895</th>\n",
       "      <td>Sagar Realty\\nAGENT\\n0</td>\n",
       "      <td>30,000</td>\n",
       "      <td>1100</td>\n",
       "      <td>3</td>\n",
       "      <td>No Deposit</td>\n",
       "      <td>2 bathrooms</td>\n",
       "      <td>SouthEast facing</td>\n",
       "      <td>Haltu, Kolkata</td>\n",
       "      <td>Reputed Builder Avishikta 2</td>\n",
       "      <td>Semi-Furnished</td>\n",
       "    </tr>\n",
       "    <tr>\n",
       "      <th>9737</th>\n",
       "      <td>Nandan Space Realty\\nAGENT\\n-</td>\n",
       "      <td>38,000</td>\n",
       "      <td>840</td>\n",
       "      <td>2</td>\n",
       "      <td>No Deposit</td>\n",
       "      <td>2 bathrooms</td>\n",
       "      <td>West facing</td>\n",
       "      <td>Goregaon East, Mumbai</td>\n",
       "      <td>Reputed Builder Gokuldham Complex</td>\n",
       "      <td>Semi-Furnished</td>\n",
       "    </tr>\n",
       "    <tr>\n",
       "      <th>...</th>\n",
       "      <td>...</td>\n",
       "      <td>...</td>\n",
       "      <td>...</td>\n",
       "      <td>...</td>\n",
       "      <td>...</td>\n",
       "      <td>...</td>\n",
       "      <td>...</td>\n",
       "      <td>...</td>\n",
       "      <td>...</td>\n",
       "      <td>...</td>\n",
       "    </tr>\n",
       "    <tr>\n",
       "      <th>33085</th>\n",
       "      <td>GL Reddy Home Enterprises\\nAGENT\\n0</td>\n",
       "      <td>35,000</td>\n",
       "      <td>1800</td>\n",
       "      <td>3</td>\n",
       "      <td>No Deposit</td>\n",
       "      <td>3 bathrooms</td>\n",
       "      <td>NaN</td>\n",
       "      <td>Palavakkam, Chennai</td>\n",
       "      <td>NaN</td>\n",
       "      <td>Semi-Furnished</td>\n",
       "    </tr>\n",
       "    <tr>\n",
       "      <th>17324</th>\n",
       "      <td>NISHA SINGH\\nAGENT\\n-</td>\n",
       "      <td>51000</td>\n",
       "      <td>2500</td>\n",
       "      <td>5</td>\n",
       "      <td>No Deposit</td>\n",
       "      <td>5 bathrooms</td>\n",
       "      <td>West facing</td>\n",
       "      <td>Tathawade, Pune</td>\n",
       "      <td>Pharande Puneville Phase I</td>\n",
       "      <td>Semi-Furnished</td>\n",
       "    </tr>\n",
       "    <tr>\n",
       "      <th>43555</th>\n",
       "      <td>Adarsh Associates\\nAGENT\\n-</td>\n",
       "      <td>67,000</td>\n",
       "      <td>1000</td>\n",
       "      <td>2</td>\n",
       "      <td>No Deposit</td>\n",
       "      <td>2 bathrooms</td>\n",
       "      <td>NaN</td>\n",
       "      <td>Sarvodaya Enclave, Delhi</td>\n",
       "      <td>NaN</td>\n",
       "      <td>Furnished</td>\n",
       "    </tr>\n",
       "    <tr>\n",
       "      <th>41399</th>\n",
       "      <td>Seller\\nVERIFIED OWNER</td>\n",
       "      <td>11,000</td>\n",
       "      <td>750</td>\n",
       "      <td>3</td>\n",
       "      <td>No Deposit</td>\n",
       "      <td>1 bathrooms</td>\n",
       "      <td>NaN</td>\n",
       "      <td>DLF Farms, Delhi</td>\n",
       "      <td>NaN</td>\n",
       "      <td>Semi-Furnished</td>\n",
       "    </tr>\n",
       "    <tr>\n",
       "      <th>57536</th>\n",
       "      <td>Seller\\nVERIFIED OWNER</td>\n",
       "      <td>9,000</td>\n",
       "      <td>600</td>\n",
       "      <td>3</td>\n",
       "      <td>No Deposit</td>\n",
       "      <td>1 bathrooms</td>\n",
       "      <td>NaN</td>\n",
       "      <td>Attapur, Hyderabad</td>\n",
       "      <td>The Premia</td>\n",
       "      <td>Furnished</td>\n",
       "    </tr>\n",
       "  </tbody>\n",
       "</table>\n",
       "<p>150 rows × 10 columns</p>\n",
       "</div>"
      ],
      "text/plain": [
       "                        broker_consultancy    Rent  Builtup Area  \\\n",
       "65137               Seller\\nVERIFIED OWNER  12,500           800   \n",
       "78061               Seller\\nVERIFIED OWNER   8,000           500   \n",
       "21575            Envision Realty\\nAGENT\\n0   37000          1100   \n",
       "66895               Sagar Realty\\nAGENT\\n0  30,000          1100   \n",
       "9737         Nandan Space Realty\\nAGENT\\n-  38,000           840   \n",
       "...                                    ...     ...           ...   \n",
       "33085  GL Reddy Home Enterprises\\nAGENT\\n0  35,000          1800   \n",
       "17324                NISHA SINGH\\nAGENT\\n-   51000          2500   \n",
       "43555          Adarsh Associates\\nAGENT\\n-  67,000          1000   \n",
       "41399               Seller\\nVERIFIED OWNER  11,000           750   \n",
       "57536               Seller\\nVERIFIED OWNER   9,000           600   \n",
       "\n",
       "       appartment_type     Deposit    Bathrooms            Facing  \\\n",
       "65137                2  No Deposit  2 bathrooms      South facing   \n",
       "78061                1  No Deposit  1 bathrooms               NaN   \n",
       "21575                3  No Deposit  3 bathrooms               NaN   \n",
       "66895                3  No Deposit  2 bathrooms  SouthEast facing   \n",
       "9737                 2  No Deposit  2 bathrooms       West facing   \n",
       "...                ...         ...          ...               ...   \n",
       "33085                3  No Deposit  3 bathrooms               NaN   \n",
       "17324                5  No Deposit  5 bathrooms       West facing   \n",
       "43555                2  No Deposit  2 bathrooms               NaN   \n",
       "41399                3  No Deposit  1 bathrooms               NaN   \n",
       "57536                3  No Deposit  1 bathrooms               NaN   \n",
       "\n",
       "                        Address  \\\n",
       "65137            Garia, Kolkata   \n",
       "78061    Triveni Nagar, Lucknow   \n",
       "21575           Hinjewadi, Pune   \n",
       "66895            Haltu, Kolkata   \n",
       "9737      Goregaon East, Mumbai   \n",
       "...                         ...   \n",
       "33085       Palavakkam, Chennai   \n",
       "17324           Tathawade, Pune   \n",
       "43555  Sarvodaya Enclave, Delhi   \n",
       "41399          DLF Farms, Delhi   \n",
       "57536        Attapur, Hyderabad   \n",
       "\n",
       "                                        Apartment Name          Status  \n",
       "65137                                              NaN  Semi-Furnished  \n",
       "78061                                              NaN  Semi-Furnished  \n",
       "21575  Paranjape Blue Ridge Project E Land T24 And T25  Semi-Furnished  \n",
       "66895                      Reputed Builder Avishikta 2  Semi-Furnished  \n",
       "9737                 Reputed Builder Gokuldham Complex  Semi-Furnished  \n",
       "...                                                ...             ...  \n",
       "33085                                              NaN  Semi-Furnished  \n",
       "17324                       Pharande Puneville Phase I  Semi-Furnished  \n",
       "43555                                              NaN       Furnished  \n",
       "41399                                              NaN  Semi-Furnished  \n",
       "57536                                       The Premia       Furnished  \n",
       "\n",
       "[150 rows x 10 columns]"
      ]
     },
     "execution_count": 229,
     "metadata": {},
     "output_type": "execute_result"
    }
   ],
   "source": [
    "duplicated_rows.sample(150)"
   ]
  },
  {
   "cell_type": "code",
   "execution_count": 230,
   "id": "eb356187-0a57-422a-ad7a-6a6be0dab020",
   "metadata": {},
   "outputs": [
    {
     "data": {
      "text/plain": [
       "(71650, 10)"
      ]
     },
     "execution_count": 230,
     "metadata": {},
     "output_type": "execute_result"
    }
   ],
   "source": [
    "duplicated_rows.shape"
   ]
  },
  {
   "cell_type": "code",
   "execution_count": 231,
   "id": "0326ef85-7357-4961-92f3-464a8ec7673a",
   "metadata": {},
   "outputs": [
    {
     "data": {
      "text/plain": [
       "13022"
      ]
     },
     "execution_count": 231,
     "metadata": {},
     "output_type": "execute_result"
    }
   ],
   "source": [
    "82016-68994"
   ]
  },
  {
   "cell_type": "markdown",
   "id": "9992f644-abd0-4984-bcfe-aa6e906696ec",
   "metadata": {},
   "source": [
    "#### 3.3 Observations"
   ]
  },
  {
   "cell_type": "markdown",
   "id": "9c7ad4a0-91e4-4a85-9a57-190694b95c7a",
   "metadata": {},
   "source": [
    "- The type of `Rent`, `Deposit`, `bathroom`should be changed to numeric type.\n",
    "- There're 6700 duplicates. These should be removed."
   ]
  },
  {
   "cell_type": "markdown",
   "id": "84b46632-ffcd-46ae-b83f-82fb5f5fa920",
   "metadata": {},
   "source": [
    "### 4.DETAILED ANALYSIS"
   ]
  },
  {
   "cell_type": "markdown",
   "id": "b2440ed5-5cdc-414f-b908-9444cdf46d1c",
   "metadata": {},
   "source": [
    "#### broker_consultancy\n"
   ]
  },
  {
   "cell_type": "code",
   "execution_count": 232,
   "id": "03a046d2-26ca-4cbb-91b7-088289b63d41",
   "metadata": {},
   "outputs": [
    {
     "data": {
      "text/plain": [
       "0        Kasturi Developers\\nBUILDER\\n-\n",
       "1        Kasturi Developers\\nBUILDER\\n-\n",
       "2        Kasturi Developers\\nBUILDER\\n-\n",
       "3                Seller\\nVERIFIED OWNER\n",
       "4                Seller\\nVERIFIED OWNER\n",
       "                      ...              \n",
       "82011            Seller\\nVERIFIED OWNER\n",
       "82012            Seller\\nVERIFIED OWNER\n",
       "82013            Seller\\nVERIFIED OWNER\n",
       "82014            Seller\\nVERIFIED OWNER\n",
       "82015            Seller\\nVERIFIED OWNER\n",
       "Name: broker_consultancy, Length: 82016, dtype: object"
      ]
     },
     "execution_count": 232,
     "metadata": {},
     "output_type": "execute_result"
    }
   ],
   "source": [
    "data.broker_consultancy"
   ]
  },
  {
   "cell_type": "code",
   "execution_count": 233,
   "id": "819f8bb6-279a-4709-8f18-f3fd18383e8f",
   "metadata": {},
   "outputs": [
    {
     "data": {
      "text/plain": [
       "dtype('O')"
      ]
     },
     "execution_count": 233,
     "metadata": {},
     "output_type": "execute_result"
    }
   ],
   "source": [
    "data.broker_consultancy.dtypes"
   ]
  },
  {
   "cell_type": "code",
   "execution_count": 234,
   "id": "d0cbe172-dcfe-402e-b33b-c0f5d7af819b",
   "metadata": {},
   "outputs": [
    {
     "data": {
      "text/plain": [
       "1"
      ]
     },
     "execution_count": 234,
     "metadata": {},
     "output_type": "execute_result"
    }
   ],
   "source": [
    "data.broker_consultancy.isna().sum()"
   ]
  },
  {
   "cell_type": "code",
   "execution_count": 235,
   "id": "9dbbb560-3aab-40aa-afef-047f125bea3d",
   "metadata": {},
   "outputs": [
    {
     "data": {
      "text/plain": [
       "array(['Kasturi Developers\\nBUILDER\\n-', 'Seller\\nVERIFIED OWNER',\n",
       "       'CHERRISH ESTATE CONSULTANTS\\nAGENT\\n-', ...,\n",
       "       'ROYALTY SOLUTION SERVICES\\nAGENT\\n0',\n",
       "       'NARAYAN REALTORS GUWAHATI\\nAGENT\\n0', 'DEBOJIT\\nAGENT\\n0'],\n",
       "      dtype=object)"
      ]
     },
     "execution_count": 235,
     "metadata": {},
     "output_type": "execute_result"
    }
   ],
   "source": [
    "data.broker_consultancy.unique()"
   ]
  },
  {
   "cell_type": "markdown",
   "id": "11209e81-f182-45f2-bc54-d2d4be1fd7df",
   "metadata": {},
   "source": [
    "-   The data type of broker_consultancy is valid\n",
    "-   broker_consultancy contain one null value\n",
    "-   There is no used of this feature in model_trainng\n",
    "-   we are going drop this in data_cleaning operation\n",
    "\n",
    "\n"
   ]
  },
  {
   "cell_type": "markdown",
   "id": "98a59470-f797-405e-bc8d-36526bc4cf21",
   "metadata": {},
   "source": [
    "#### Rent"
   ]
  },
  {
   "cell_type": "code",
   "execution_count": 236,
   "id": "df450f02-3da9-4794-86ec-5b6e0f4fb339",
   "metadata": {},
   "outputs": [
    {
     "data": {
      "text/plain": [
       "0        20,000\n",
       "1        20,000\n",
       "2        30,000\n",
       "3        28,500\n",
       "4        50,000\n",
       "          ...  \n",
       "82011    11,000\n",
       "82012     9,000\n",
       "82013    22,000\n",
       "82014    11,000\n",
       "82015    40,000\n",
       "Name: Rent, Length: 82016, dtype: object"
      ]
     },
     "execution_count": 236,
     "metadata": {},
     "output_type": "execute_result"
    }
   ],
   "source": [
    "data.Rent"
   ]
  },
  {
   "cell_type": "code",
   "execution_count": 237,
   "id": "b16dc626-dc78-4c15-85fa-bbb59eaa1779",
   "metadata": {},
   "outputs": [
    {
     "data": {
      "text/plain": [
       "23       1.65 L\n",
       "26        2.8 L\n",
       "27        1.5 L\n",
       "30        1.3 L\n",
       "36        1.4 L\n",
       "          ...  \n",
       "81255       1 L\n",
       "81275       1 L\n",
       "81295       1 L\n",
       "81315       1 L\n",
       "81335       1 L\n",
       "Name: Rent, Length: 4822, dtype: object"
      ]
     },
     "execution_count": 237,
     "metadata": {},
     "output_type": "execute_result"
    }
   ],
   "source": [
    "(\n",
    "    data\n",
    "    .Rent\n",
    "    .loc[lambda ser: ser.str.contains(\"[^0-9,]\")]\n",
    ")"
   ]
  },
  {
   "cell_type": "code",
   "execution_count": 238,
   "id": "402c33c8-81de-4231-b759-da0d8cb5531f",
   "metadata": {},
   "outputs": [
    {
     "data": {
      "text/plain": [
       "0"
      ]
     },
     "execution_count": 238,
     "metadata": {},
     "output_type": "execute_result"
    }
   ],
   "source": [
    "data.Rent.isna().sum()"
   ]
  },
  {
   "cell_type": "code",
   "execution_count": 239,
   "id": "9a625fc9-fa3d-4a38-81ed-4cb4d1241874",
   "metadata": {},
   "outputs": [
    {
     "data": {
      "text/plain": [
       "dtype('O')"
      ]
     },
     "execution_count": 239,
     "metadata": {},
     "output_type": "execute_result"
    }
   ],
   "source": [
    "data.Rent.dtypes"
   ]
  },
  {
   "cell_type": "code",
   "execution_count": 240,
   "id": "161a1663-6f82-408d-a34d-b3ed1072f7c2",
   "metadata": {},
   "outputs": [
    {
     "data": {
      "text/plain": [
       "23       165000\n",
       "26       280000\n",
       "27       150000\n",
       "30       130000\n",
       "36       140000\n",
       "          ...  \n",
       "81255    100000\n",
       "81275    100000\n",
       "81295    100000\n",
       "81315    100000\n",
       "81335    100000\n",
       "Name: Rent, Length: 4822, dtype: int64"
      ]
     },
     "execution_count": 240,
     "metadata": {},
     "output_type": "execute_result"
    }
   ],
   "source": [
    "(\n",
    "    data\n",
    "    .Rent\n",
    "    .loc[lambda ser: ser.str.contains(\"[^0-9,]\")]\n",
    "     .str.replace(\"L\",\"\")\n",
    "     .astype(float)\n",
    "      .mul(100000)\n",
    "      .astype(int)\n",
    "      \n",
    "    \n",
    "    \n",
    ")"
   ]
  },
  {
   "cell_type": "markdown",
   "id": "a6553c84-f462-4605-9af3-2ef209e1c2df",
   "metadata": {},
   "source": [
    "-   The data type of Rent  is not valid\n",
    "-   In rent column data contain alphanumeric values like 1.5L,3.5L values\n",
    "-   we need to convert this into the numeric value\n",
    "-   This feature contain zero null value\n",
    "\n"
   ]
  },
  {
   "cell_type": "markdown",
   "id": "3ef35428-30a6-4785-a20a-8f7ee479d64c",
   "metadata": {},
   "source": [
    "#### Builtup_Area"
   ]
  },
  {
   "cell_type": "markdown",
   "id": "45390c5e-2849-44e3-bcda-bfd870de93e5",
   "metadata": {},
   "source": [
    "-   The data type of Rent  is  valid\n",
    "-   Does not contains any null value\n"
   ]
  },
  {
   "cell_type": "markdown",
   "id": "a68ef3db-6926-4dc9-9ea3-3635ef420362",
   "metadata": {},
   "source": [
    "#### Appartment_type"
   ]
  },
  {
   "cell_type": "code",
   "execution_count": 241,
   "id": "86e9fb52-bc32-4a0a-9191-d25c77accc92",
   "metadata": {},
   "outputs": [
    {
     "data": {
      "text/plain": [
       "dtype('int64')"
      ]
     },
     "execution_count": 241,
     "metadata": {},
     "output_type": "execute_result"
    }
   ],
   "source": [
    "data.appartment_type.dtypes"
   ]
  },
  {
   "cell_type": "code",
   "execution_count": 242,
   "id": "53a01e3f-4723-4e04-aeb7-dc326f763178",
   "metadata": {},
   "outputs": [
    {
     "data": {
      "text/plain": [
       "0"
      ]
     },
     "execution_count": 242,
     "metadata": {},
     "output_type": "execute_result"
    }
   ],
   "source": [
    "data.appartment_type.isna().sum()"
   ]
  },
  {
   "cell_type": "markdown",
   "id": "e32b6dd6-ef8e-45b2-b984-2a72ca6d801d",
   "metadata": {},
   "source": [
    "-   The data type of Rent  is  valid\n",
    "-   Does not contains any null value"
   ]
  },
  {
   "cell_type": "markdown",
   "id": "7c9f173a-b36a-4d2d-aa2d-5bd34bba54c3",
   "metadata": {},
   "source": [
    "#### Deposit"
   ]
  },
  {
   "cell_type": "code",
   "execution_count": 243,
   "id": "2c97064a-e5dd-4b1c-9382-ea8f16791d83",
   "metadata": {},
   "outputs": [
    {
     "data": {
      "text/plain": [
       "array(['No Deposit', '4 L deposit', '1.25 L deposit', '1 L deposit',\n",
       "       '60,000 deposit', '70,000 deposit', '3 L deposit', '3.5 L deposit',\n",
       "       '1.5 L deposit', '3.3 L deposit', '2 L deposit', '6 L deposit',\n",
       "       '9.75 L deposit', '10 L deposit', '9 L deposit', '80,000 deposit',\n",
       "       '42,000 deposit', '75,000 deposit', '5 L deposit',\n",
       "       '40,000 deposit', '2.5 L deposit', '5.4 L deposit', '20 L deposit',\n",
       "       '15 L deposit', '18 L deposit', '8.5 L deposit', '2.1 L deposit',\n",
       "       '1.74 L deposit', '1.35 L deposit', '28,000 deposit',\n",
       "       '1.67 L deposit', '1.2 L deposit', '1.16 L deposit',\n",
       "       '9.9 L deposit', '3.6 L deposit', '6.2 L deposit', '2.2 L deposit',\n",
       "       '4.8 L deposit', '1.6 L deposit', '2.6 L deposit', '1.7 L deposit',\n",
       "       '1.3 L deposit', '81,000 deposit', '84,000 deposit',\n",
       "       '69,000 deposit', '1.08 L deposit', '1.02 L deposit',\n",
       "       '1.56 L deposit', '54,000 deposit', '1.05 L deposit',\n",
       "       '50,000 deposit', '7,000 deposit', '30,000 deposit',\n",
       "       '1.38 L deposit', '7.2 L deposit', '8 L deposit', '1.41 L deposit',\n",
       "       '99,000 deposit', '51,000 deposit', '57,000 deposit',\n",
       "       '96,000 deposit', '66,000 deposit', '1.95 L deposit',\n",
       "       '63,000 deposit', '78,000 deposit', '87,000 deposit',\n",
       "       '93,000 deposit', '1.11 L deposit', '2.25 L deposit',\n",
       "       '1.29 L deposit', '4.5 L deposit', '20,000 deposit',\n",
       "       '52,500 deposit', '85,000 deposit', '3.25 L deposit',\n",
       "       '12,000 deposit', '35,000 deposit', '6.6 L deposit',\n",
       "       '4.2 L deposit', '6.3 L deposit', '12 L deposit', '10,000 deposit',\n",
       "       '90,000 deposit', '1.1 L deposit', '1.4 L deposit',\n",
       "       '2.4 L deposit', '1.92 L deposit', '25 L deposit',\n",
       "       '25,000 deposit', '2.7 L deposit', '1.26 L deposit',\n",
       "       '1.32 L deposit', '2.94 L deposit', '2.64 L deposit',\n",
       "       '1.8 L deposit', '24,200 deposit', '15,000 deposit',\n",
       "       '2.3 L deposit', '3.2 L deposit', '7 L deposit', '68,000 deposit',\n",
       "       '7.5 L deposit', '95,000 deposit', '21 L deposit',\n",
       "       '45,000 deposit', '18,000 deposit', '1.75 L deposit',\n",
       "       '55,000 deposit', '14,000 deposit', '14,500 deposit',\n",
       "       '13,500 deposit', '13,000 deposit', '98,000 deposit',\n",
       "       '2.75 L deposit', '5.5 L deposit', '30 L deposit', '42 L deposit',\n",
       "       '8.7 L deposit', '11 L deposit', '65,000 deposit',\n",
       "       '1.65 L deposit', '6.5 L deposit', '30,800 deposit',\n",
       "       '30,200 deposit', '30,500 deposit', '30,600 deposit',\n",
       "       '30,400 deposit', '1.12 L deposit', '9,000 deposit',\n",
       "       '7.8 L deposit', '48,000 deposit', '5.1 L deposit',\n",
       "       '22,000 deposit', '1.45 L deposit', '500 deposit', '17 L deposit',\n",
       "       '1.55 L deposit', '21,000 deposit', '1.15 L deposit',\n",
       "       '2,000 deposit', '24,000 deposit', '34,000 deposit',\n",
       "       '16 L deposit', '1.85 L deposit', '2.15 L deposit',\n",
       "       '3.75 L deposit', '1.23 L deposit', '3.9 L deposit',\n",
       "       '13.2 L deposit', '8.85 L deposit', '3.76 L deposit',\n",
       "       '72 L deposit', '1.14 L deposit', '16.5 L deposit',\n",
       "       '8,000 deposit', '36,000 deposit', '13 L deposit',\n",
       "       '2.73 L deposit', '16,000 deposit', '3,000 deposit',\n",
       "       '11,000 deposit', '57,500 deposit', '82,000 deposit',\n",
       "       '76,000 deposit', '17,500 deposit', '8.25 L deposit',\n",
       "       '27,000 deposit', '17,000 deposit', '6,000 deposit',\n",
       "       '5,000 deposit', '4,500 deposit', '61,000 deposit',\n",
       "       '56,000 deposit', '4,000 deposit', '39,000 deposit',\n",
       "       '26,000 deposit', '12,500 deposit', '28,500 deposit',\n",
       "       '46,000 deposit', '3,800 deposit', '18,500 deposit',\n",
       "       '23,000 deposit', '13,900 deposit', '9,999 deposit',\n",
       "       '14,900 deposit', '7,500 deposit', '11,500 deposit'], dtype=object)"
      ]
     },
     "execution_count": 243,
     "metadata": {},
     "output_type": "execute_result"
    }
   ],
   "source": [
    "data.Deposit.unique()\n"
   ]
  },
  {
   "cell_type": "code",
   "execution_count": 244,
   "id": "2a65a9fb-ca04-4266-b4e2-fc530235d2b0",
   "metadata": {},
   "outputs": [
    {
     "data": {
      "text/plain": [
       "12653"
      ]
     },
     "execution_count": 244,
     "metadata": {},
     "output_type": "execute_result"
    }
   ],
   "source": [
    "(\n",
    "    data\n",
    "    .Deposit\n",
    "    .loc[lambda ser: ser.str.contains(\"[^No Deposit]\")]\n",
    "     .count()\n",
    "    \n",
    ")"
   ]
  },
  {
   "cell_type": "markdown",
   "id": "c74bfcf0-48bb-4a3c-a3d5-cf99243dedf3",
   "metadata": {},
   "source": [
    "-   The data type of Deposit   is not  valid\n",
    "-   This feature have lots of value as \"no_Deposit\"\n",
    "-   because of that we are going to drop this feature"
   ]
  },
  {
   "cell_type": "markdown",
   "id": "61aaece0-49dd-411a-a140-bf737beafafc",
   "metadata": {},
   "source": [
    "#### Bathrooms\t"
   ]
  },
  {
   "cell_type": "code",
   "execution_count": 245,
   "id": "873dd546-e3d3-4e66-b377-358eefc1b1cf",
   "metadata": {},
   "outputs": [
    {
     "data": {
      "text/plain": [
       "0        2 bathrooms\n",
       "1        2 bathrooms\n",
       "2        3 bathrooms\n",
       "3        2 bathrooms\n",
       "4        3 bathrooms\n",
       "            ...     \n",
       "82011    2 bathrooms\n",
       "82012    2 bathrooms\n",
       "82013    4 bathrooms\n",
       "82014    2 bathrooms\n",
       "82015    3 bathrooms\n",
       "Name: Bathrooms, Length: 82016, dtype: object"
      ]
     },
     "execution_count": 245,
     "metadata": {},
     "output_type": "execute_result"
    }
   ],
   "source": [
    "data.Bathrooms\t"
   ]
  },
  {
   "cell_type": "code",
   "execution_count": 247,
   "id": "747c1ac9-1132-4def-abcb-ff87305ed09e",
   "metadata": {},
   "outputs": [
    {
     "data": {
      "text/plain": [
       "344"
      ]
     },
     "execution_count": 247,
     "metadata": {},
     "output_type": "execute_result"
    }
   ],
   "source": [
    "data.Bathrooms.isna().sum()"
   ]
  },
  {
   "cell_type": "code",
   "execution_count": 248,
   "id": "600b13d8-23cd-4fd3-a89c-b8bf55e17afb",
   "metadata": {},
   "outputs": [
    {
     "data": {
      "text/plain": [
       "0        2\n",
       "1        2\n",
       "2        3\n",
       "3        2\n",
       "4        3\n",
       "        ..\n",
       "82011    2\n",
       "82012    2\n",
       "82013    4\n",
       "82014    2\n",
       "82015    3\n",
       "Name: Bathrooms, Length: 82016, dtype: object"
      ]
     },
     "execution_count": 248,
     "metadata": {},
     "output_type": "execute_result"
    }
   ],
   "source": [
    "(\n",
    "    data\n",
    "    .Bathrooms\n",
    "     .str.strip()\n",
    "     .str.get(0)\n",
    "      \n",
    "     \n",
    "     \n",
    "    \n",
    ")"
   ]
  },
  {
   "cell_type": "markdown",
   "id": "38ac8c5b-7df9-417f-b682-82abec5bc548",
   "metadata": {},
   "source": [
    "-   The data type of Bathrooms is not  valid\n",
    "-   it should be numeric\n",
    "-   this feature contains 344 null value\n",
    "-   in datacleaning operation the above problems are handle"
   ]
  },
  {
   "cell_type": "markdown",
   "id": "50baa90a-549b-495f-9d19-4f9117ee3953",
   "metadata": {},
   "source": [
    "#### Facing"
   ]
  },
  {
   "cell_type": "markdown",
   "id": "1a7d239f-8fc6-426f-85b3-158f23303c97",
   "metadata": {},
   "source": [
    "\n",
    "-   This feature have lots of null value\n",
    "-   because of that we are going to drop this feature"
   ]
  },
  {
   "cell_type": "markdown",
   "id": "100ad488-4c95-40f8-9b58-4f5c0d530bac",
   "metadata": {},
   "source": [
    "#### Address"
   ]
  },
  {
   "cell_type": "code",
   "execution_count": 249,
   "id": "037fa71a-8683-4906-a4aa-138a717687e2",
   "metadata": {},
   "outputs": [
    {
     "data": {
      "text/plain": [
       "0                  Ulwe, Mumbai\n",
       "1                  Ulwe, Mumbai\n",
       "2                  Ulwe, Mumbai\n",
       "3        Kandivali West, Mumbai\n",
       "4               Chembur, Mumbai\n",
       "                  ...          \n",
       "82011       Sector 2, Faridabad\n",
       "82012      Sector 91, Faridabad\n",
       "82013      Sector 76, Faridabad\n",
       "82014      Sector 88, Faridabad\n",
       "82015      Sector 79, Faridabad\n",
       "Name: Address, Length: 82016, dtype: object"
      ]
     },
     "execution_count": 249,
     "metadata": {},
     "output_type": "execute_result"
    }
   ],
   "source": [
    "data.Address"
   ]
  },
  {
   "cell_type": "code",
   "execution_count": 250,
   "id": "ea8cbe4c-f959-41f7-a725-615b92625b47",
   "metadata": {},
   "outputs": [
    {
     "data": {
      "text/plain": [
       "0"
      ]
     },
     "execution_count": 250,
     "metadata": {},
     "output_type": "execute_result"
    }
   ],
   "source": [
    "data.Address.isna().sum()"
   ]
  },
  {
   "cell_type": "code",
   "execution_count": 251,
   "id": "3c426e26-d94a-4d76-98ce-e26cf78a4913",
   "metadata": {},
   "outputs": [
    {
     "data": {
      "text/plain": [
       "array([' Mumbai', '', 'Thane west', ' Pune', ' Bangalore', ' Chennai',\n",
       "       ' Delhi', ' Gurgaon', ' Hyderabad', ' Kolkata', ' Ahmedabad',\n",
       "       ' Ghaziabad', ' Noida', ' Indore', ' Lucknow', ' Jaipur',\n",
       "       ' Bhopal', ' Vadodara', ' Surat', ' Kanpur', ' Guwahati',\n",
       "       ' Faridabad'], dtype=object)"
      ]
     },
     "execution_count": 251,
     "metadata": {},
     "output_type": "execute_result"
    }
   ],
   "source": [
    "data['Address'].str.split(',').apply(lambda x:x[1]).unique()"
   ]
  },
  {
   "cell_type": "markdown",
   "id": "e2955fe5-356f-4818-ada1-4295e0fd0d64",
   "metadata": {},
   "source": [
    "\n",
    "-   This  Address feature have loction and city \n",
    "-   we have requirement of city name\n",
    "-   because of that we have to seprate out the locality and city from address\n",
    "-   add new feature as city and drop the feature address from dataframe\n",
    "-   This feature does not contains missing values "
   ]
  },
  {
   "cell_type": "markdown",
   "id": "9bb9d113-bcb1-4ffa-81e2-d230da5d9995",
   "metadata": {},
   "source": [
    "#### Apartment Name "
   ]
  },
  {
   "cell_type": "markdown",
   "id": "311e15a7-6ad9-44c2-bda5-7ffe0617f4dd",
   "metadata": {},
   "source": [
    "-   This feature have lots of null value\n",
    "-   because of that we are going to drop this feature"
   ]
  },
  {
   "cell_type": "markdown",
   "id": "e87aa442-5201-4493-adb4-73718e88f431",
   "metadata": {},
   "source": [
    "#### Status"
   ]
  },
  {
   "cell_type": "code",
   "execution_count": 252,
   "id": "abfdd6fb-b057-482f-bc42-332fcb38f6e6",
   "metadata": {},
   "outputs": [
    {
     "data": {
      "text/plain": [
       "0           Unfurnished\n",
       "1           Unfurnished\n",
       "2        Semi-Furnished\n",
       "3           Unfurnished\n",
       "4        Semi-Furnished\n",
       "              ...      \n",
       "82011       Unfurnished\n",
       "82012    Semi-Furnished\n",
       "82013    Semi-Furnished\n",
       "82014    Semi-Furnished\n",
       "82015    Semi-Furnished\n",
       "Name: Status, Length: 82016, dtype: object"
      ]
     },
     "execution_count": 252,
     "metadata": {},
     "output_type": "execute_result"
    }
   ],
   "source": [
    "data.Status"
   ]
  },
  {
   "cell_type": "code",
   "execution_count": 253,
   "id": "d71053ab-7b79-42e3-af1e-68713e6556a4",
   "metadata": {},
   "outputs": [
    {
     "data": {
      "text/plain": [
       "0"
      ]
     },
     "execution_count": 253,
     "metadata": {},
     "output_type": "execute_result"
    }
   ],
   "source": [
    "data.Status.isna().sum()"
   ]
  },
  {
   "cell_type": "code",
   "execution_count": 254,
   "id": "db549a1c-19ce-4eae-aa45-6fed719f34ab",
   "metadata": {},
   "outputs": [
    {
     "data": {
      "text/plain": [
       "array(['Unfurnished', 'Semi-Furnished', 'Furnished'], dtype=object)"
      ]
     },
     "execution_count": 254,
     "metadata": {},
     "output_type": "execute_result"
    }
   ],
   "source": [
    "data.Status.unique()"
   ]
  },
  {
   "cell_type": "markdown",
   "id": "2ffaf4ce-ffc2-4e77-859d-a69c390aca17",
   "metadata": {},
   "source": [
    "-   This Feature has valid datatype\n",
    "-   Does not contains any null value\n",
    "-   not required any cleaning opertion"
   ]
  },
  {
   "cell_type": "code",
   "execution_count": null,
   "id": "5035e0e4-4398-40fa-955f-d2f988932bac",
   "metadata": {},
   "outputs": [],
   "source": []
  },
  {
   "cell_type": "code",
   "execution_count": null,
   "id": "51d18b4c-7d7a-44ad-ad03-d88215138671",
   "metadata": {},
   "outputs": [],
   "source": []
  },
  {
   "cell_type": "code",
   "execution_count": null,
   "id": "ccb9ab6a-2a2f-49ca-92c2-ade1a2b5c400",
   "metadata": {},
   "outputs": [],
   "source": []
  },
  {
   "cell_type": "markdown",
   "id": "78f29789-8979-4cae-90c6-588ff5636c4e",
   "metadata": {},
   "source": [
    "### 5.DATACLEANING OPERATION\n"
   ]
  },
  {
   "cell_type": "code",
   "execution_count": 255,
   "id": "789f62b9-af79-4e90-a5f2-21eb07d3f331",
   "metadata": {},
   "outputs": [],
   "source": [
    " def convert_rent(rent):\n",
    "        if pd.isna(rent):  # Check for NaN values\n",
    "            return np.nan\n",
    "        if \"L\" in rent:\n",
    "            return int(float(rent.replace('L', '').replace(',', '').strip()) * 100000)\n",
    "        else:\n",
    "            return int(float(rent.replace(',', '').strip()))"
   ]
  },
  {
   "cell_type": "code",
   "execution_count": 256,
   "id": "54db891f-9c27-4183-98f5-198bb6232ed1",
   "metadata": {},
   "outputs": [],
   "source": [
    "def clean_data(df):\n",
    "    # Drop the 'broker_consultancy' column and rename columns to lowercase\n",
    "    df_cleaned = (\n",
    "        df\n",
    "        .drop(columns=\"broker_consultancy\")  # Drop the 'broker_consultancy','Deposit' column\n",
    "        .drop(columns=\"Deposit\")\n",
    "        .drop(columns=\"Facing\")\n",
    "        .drop(columns=\"Apartment Name\")\n",
    "        .drop_duplicates()\n",
    "        \n",
    "        .rename(columns=str.lower)            # Rename columns to lowercase\n",
    "        .assign\n",
    "        ( bathrooms=lambda df_:\n",
    "         (\n",
    "            df_\n",
    "            \n",
    "         .bathrooms\n",
    "         .str.strip()\n",
    "          .str.get(0)   \n",
    "             \n",
    "         )\n",
    "            \n",
    "        )\n",
    "   \n",
    "    )\n",
    "\n",
    "    \n",
    "\n",
    "    \n",
    "\n",
    "    # Apply the convert_rent function to the 'rent' column\n",
    "    df_cleaned['rent'] = df_cleaned['rent'].apply(convert_rent)\n",
    "\n",
    "    if 'bathrooms' in df_cleaned.columns:\n",
    "        mode_bathrooms = df_cleaned['bathrooms'].mode()[0]  # Calculate mode\n",
    "        df_cleaned['bathrooms'] = df_cleaned['bathrooms'].fillna(mode_bathrooms) \n",
    "\n",
    "    # Convert 'bathrooms' column to integer type\n",
    "    df_cleaned['bathrooms'] = df_cleaned['bathrooms'].astype(int)\n",
    "\n",
    "    df_cleaned['city']=df_cleaned['address'].str.split(',').apply(lambda x:x[1])\n",
    "    df_cleaned = df_cleaned.drop(columns=\"address\")\n",
    "    \n",
    "    # Rename columns by removing or replacing substrings\n",
    "    df_cleaned.columns = df_cleaned.columns.str.replace('area', '')\n",
    "    df_cleaned.columns = df_cleaned.columns.str.replace('builtup', 'area')\n",
    "    df_cleaned.columns = df_cleaned.columns.str.replace('appartment_type', 'type')\n",
    "    df_cleaned.columns = df_cleaned.columns.str.replace('status', 'furnished_type')\n",
    "    \n",
    "\n",
    "\n",
    "\n",
    "\n",
    "    \n",
    "\n",
    "    return df_cleaned\n",
    "    \n"
   ]
  },
  {
   "cell_type": "code",
   "execution_count": 257,
   "id": "6578884c-432b-4021-95dd-29b78aab7daf",
   "metadata": {},
   "outputs": [
    {
     "data": {
      "text/html": [
       "<div>\n",
       "<style scoped>\n",
       "    .dataframe tbody tr th:only-of-type {\n",
       "        vertical-align: middle;\n",
       "    }\n",
       "\n",
       "    .dataframe tbody tr th {\n",
       "        vertical-align: top;\n",
       "    }\n",
       "\n",
       "    .dataframe thead th {\n",
       "        text-align: right;\n",
       "    }\n",
       "</style>\n",
       "<table border=\"1\" class=\"dataframe\">\n",
       "  <thead>\n",
       "    <tr style=\"text-align: right;\">\n",
       "      <th></th>\n",
       "      <th>rent</th>\n",
       "      <th>area</th>\n",
       "      <th>type</th>\n",
       "      <th>bathrooms</th>\n",
       "      <th>furnished_type</th>\n",
       "      <th>city</th>\n",
       "    </tr>\n",
       "  </thead>\n",
       "  <tbody>\n",
       "    <tr>\n",
       "      <th>0</th>\n",
       "      <td>20000</td>\n",
       "      <td>1132</td>\n",
       "      <td>2</td>\n",
       "      <td>2</td>\n",
       "      <td>Unfurnished</td>\n",
       "      <td>Mumbai</td>\n",
       "    </tr>\n",
       "    <tr>\n",
       "      <th>1</th>\n",
       "      <td>20000</td>\n",
       "      <td>1200</td>\n",
       "      <td>2</td>\n",
       "      <td>2</td>\n",
       "      <td>Unfurnished</td>\n",
       "      <td>Mumbai</td>\n",
       "    </tr>\n",
       "    <tr>\n",
       "      <th>2</th>\n",
       "      <td>30000</td>\n",
       "      <td>1700</td>\n",
       "      <td>3</td>\n",
       "      <td>3</td>\n",
       "      <td>Semi-Furnished</td>\n",
       "      <td>Mumbai</td>\n",
       "    </tr>\n",
       "    <tr>\n",
       "      <th>3</th>\n",
       "      <td>28500</td>\n",
       "      <td>750</td>\n",
       "      <td>2</td>\n",
       "      <td>2</td>\n",
       "      <td>Unfurnished</td>\n",
       "      <td>Mumbai</td>\n",
       "    </tr>\n",
       "    <tr>\n",
       "      <th>4</th>\n",
       "      <td>50000</td>\n",
       "      <td>1400</td>\n",
       "      <td>3</td>\n",
       "      <td>3</td>\n",
       "      <td>Semi-Furnished</td>\n",
       "      <td>Mumbai</td>\n",
       "    </tr>\n",
       "    <tr>\n",
       "      <th>...</th>\n",
       "      <td>...</td>\n",
       "      <td>...</td>\n",
       "      <td>...</td>\n",
       "      <td>...</td>\n",
       "      <td>...</td>\n",
       "      <td>...</td>\n",
       "    </tr>\n",
       "    <tr>\n",
       "      <th>81351</th>\n",
       "      <td>11000</td>\n",
       "      <td>1100</td>\n",
       "      <td>2</td>\n",
       "      <td>2</td>\n",
       "      <td>Unfurnished</td>\n",
       "      <td>Faridabad</td>\n",
       "    </tr>\n",
       "    <tr>\n",
       "      <th>81352</th>\n",
       "      <td>9000</td>\n",
       "      <td>900</td>\n",
       "      <td>2</td>\n",
       "      <td>2</td>\n",
       "      <td>Semi-Furnished</td>\n",
       "      <td>Faridabad</td>\n",
       "    </tr>\n",
       "    <tr>\n",
       "      <th>81353</th>\n",
       "      <td>22000</td>\n",
       "      <td>2727</td>\n",
       "      <td>4</td>\n",
       "      <td>4</td>\n",
       "      <td>Semi-Furnished</td>\n",
       "      <td>Faridabad</td>\n",
       "    </tr>\n",
       "    <tr>\n",
       "      <th>81354</th>\n",
       "      <td>11000</td>\n",
       "      <td>600</td>\n",
       "      <td>2</td>\n",
       "      <td>2</td>\n",
       "      <td>Semi-Furnished</td>\n",
       "      <td>Faridabad</td>\n",
       "    </tr>\n",
       "    <tr>\n",
       "      <th>81355</th>\n",
       "      <td>40000</td>\n",
       "      <td>1900</td>\n",
       "      <td>3</td>\n",
       "      <td>3</td>\n",
       "      <td>Semi-Furnished</td>\n",
       "      <td>Faridabad</td>\n",
       "    </tr>\n",
       "  </tbody>\n",
       "</table>\n",
       "<p>12218 rows × 6 columns</p>\n",
       "</div>"
      ],
      "text/plain": [
       "        rent  area   type  bathrooms  furnished_type        city\n",
       "0      20000   1132     2          2     Unfurnished      Mumbai\n",
       "1      20000   1200     2          2     Unfurnished      Mumbai\n",
       "2      30000   1700     3          3  Semi-Furnished      Mumbai\n",
       "3      28500    750     2          2     Unfurnished      Mumbai\n",
       "4      50000   1400     3          3  Semi-Furnished      Mumbai\n",
       "...      ...    ...   ...        ...             ...         ...\n",
       "81351  11000   1100     2          2     Unfurnished   Faridabad\n",
       "81352   9000    900     2          2  Semi-Furnished   Faridabad\n",
       "81353  22000   2727     4          4  Semi-Furnished   Faridabad\n",
       "81354  11000    600     2          2  Semi-Furnished   Faridabad\n",
       "81355  40000   1900     3          3  Semi-Furnished   Faridabad\n",
       "\n",
       "[12218 rows x 6 columns]"
      ]
     },
     "execution_count": 257,
     "metadata": {},
     "output_type": "execute_result"
    }
   ],
   "source": [
    "clean_data(data)\n"
   ]
  },
  {
   "cell_type": "code",
   "execution_count": 258,
   "id": "f8c07e4e-356a-4847-84a5-b4c19891c6db",
   "metadata": {},
   "outputs": [
    {
     "data": {
      "text/html": [
       "<div>\n",
       "<style scoped>\n",
       "    .dataframe tbody tr th:only-of-type {\n",
       "        vertical-align: middle;\n",
       "    }\n",
       "\n",
       "    .dataframe tbody tr th {\n",
       "        vertical-align: top;\n",
       "    }\n",
       "\n",
       "    .dataframe thead th {\n",
       "        text-align: right;\n",
       "    }\n",
       "</style>\n",
       "<table border=\"1\" class=\"dataframe\">\n",
       "  <thead>\n",
       "    <tr style=\"text-align: right;\">\n",
       "      <th></th>\n",
       "      <th>broker_consultancy</th>\n",
       "      <th>Rent</th>\n",
       "      <th>Builtup Area</th>\n",
       "      <th>appartment_type</th>\n",
       "      <th>Deposit</th>\n",
       "      <th>Bathrooms</th>\n",
       "      <th>Facing</th>\n",
       "      <th>Address</th>\n",
       "      <th>Apartment Name</th>\n",
       "      <th>Status</th>\n",
       "    </tr>\n",
       "  </thead>\n",
       "  <tbody>\n",
       "    <tr>\n",
       "      <th>0</th>\n",
       "      <td>Kasturi Developers\\nBUILDER\\n-</td>\n",
       "      <td>20,000</td>\n",
       "      <td>1132</td>\n",
       "      <td>2</td>\n",
       "      <td>No Deposit</td>\n",
       "      <td>2 bathrooms</td>\n",
       "      <td>NorthEast facing</td>\n",
       "      <td>Ulwe, Mumbai</td>\n",
       "      <td>EV Castle</td>\n",
       "      <td>Unfurnished</td>\n",
       "    </tr>\n",
       "    <tr>\n",
       "      <th>1</th>\n",
       "      <td>Kasturi Developers\\nBUILDER\\n-</td>\n",
       "      <td>20,000</td>\n",
       "      <td>1200</td>\n",
       "      <td>2</td>\n",
       "      <td>No Deposit</td>\n",
       "      <td>2 bathrooms</td>\n",
       "      <td>NorthEast facing</td>\n",
       "      <td>Ulwe, Mumbai</td>\n",
       "      <td>NaN</td>\n",
       "      <td>Unfurnished</td>\n",
       "    </tr>\n",
       "    <tr>\n",
       "      <th>2</th>\n",
       "      <td>Kasturi Developers\\nBUILDER\\n-</td>\n",
       "      <td>30,000</td>\n",
       "      <td>1700</td>\n",
       "      <td>3</td>\n",
       "      <td>No Deposit</td>\n",
       "      <td>3 bathrooms</td>\n",
       "      <td>NorthEast facing</td>\n",
       "      <td>Ulwe, Mumbai</td>\n",
       "      <td>NaN</td>\n",
       "      <td>Semi-Furnished</td>\n",
       "    </tr>\n",
       "    <tr>\n",
       "      <th>3</th>\n",
       "      <td>Seller\\nVERIFIED OWNER</td>\n",
       "      <td>28,500</td>\n",
       "      <td>750</td>\n",
       "      <td>2</td>\n",
       "      <td>No Deposit</td>\n",
       "      <td>2 bathrooms</td>\n",
       "      <td>NaN</td>\n",
       "      <td>Kandivali West, Mumbai</td>\n",
       "      <td>Atul Blue Arch</td>\n",
       "      <td>Unfurnished</td>\n",
       "    </tr>\n",
       "    <tr>\n",
       "      <th>4</th>\n",
       "      <td>Seller\\nVERIFIED OWNER</td>\n",
       "      <td>50,000</td>\n",
       "      <td>1400</td>\n",
       "      <td>3</td>\n",
       "      <td>No Deposit</td>\n",
       "      <td>3 bathrooms</td>\n",
       "      <td>East facing</td>\n",
       "      <td>Chembur, Mumbai</td>\n",
       "      <td>Godrej Prime</td>\n",
       "      <td>Semi-Furnished</td>\n",
       "    </tr>\n",
       "    <tr>\n",
       "      <th>...</th>\n",
       "      <td>...</td>\n",
       "      <td>...</td>\n",
       "      <td>...</td>\n",
       "      <td>...</td>\n",
       "      <td>...</td>\n",
       "      <td>...</td>\n",
       "      <td>...</td>\n",
       "      <td>...</td>\n",
       "      <td>...</td>\n",
       "      <td>...</td>\n",
       "    </tr>\n",
       "    <tr>\n",
       "      <th>82011</th>\n",
       "      <td>Seller\\nVERIFIED OWNER</td>\n",
       "      <td>11,000</td>\n",
       "      <td>1100</td>\n",
       "      <td>2</td>\n",
       "      <td>11,000 deposit</td>\n",
       "      <td>2 bathrooms</td>\n",
       "      <td>NaN</td>\n",
       "      <td>Sector 2, Faridabad</td>\n",
       "      <td>NaN</td>\n",
       "      <td>Unfurnished</td>\n",
       "    </tr>\n",
       "    <tr>\n",
       "      <th>82012</th>\n",
       "      <td>Seller\\nVERIFIED OWNER</td>\n",
       "      <td>9,000</td>\n",
       "      <td>900</td>\n",
       "      <td>2</td>\n",
       "      <td>9,000 deposit</td>\n",
       "      <td>2 bathrooms</td>\n",
       "      <td>NaN</td>\n",
       "      <td>Sector 91, Faridabad</td>\n",
       "      <td>Gupta Surya Nagar 2</td>\n",
       "      <td>Semi-Furnished</td>\n",
       "    </tr>\n",
       "    <tr>\n",
       "      <th>82013</th>\n",
       "      <td>Seller\\nVERIFIED OWNER</td>\n",
       "      <td>22,000</td>\n",
       "      <td>2727</td>\n",
       "      <td>4</td>\n",
       "      <td>22,000 deposit</td>\n",
       "      <td>4 bathrooms</td>\n",
       "      <td>NaN</td>\n",
       "      <td>Sector 76, Faridabad</td>\n",
       "      <td>NaN</td>\n",
       "      <td>Semi-Furnished</td>\n",
       "    </tr>\n",
       "    <tr>\n",
       "      <th>82014</th>\n",
       "      <td>Seller\\nVERIFIED OWNER</td>\n",
       "      <td>11,000</td>\n",
       "      <td>600</td>\n",
       "      <td>2</td>\n",
       "      <td>No Deposit</td>\n",
       "      <td>2 bathrooms</td>\n",
       "      <td>NaN</td>\n",
       "      <td>Sector 88, Faridabad</td>\n",
       "      <td>NaN</td>\n",
       "      <td>Semi-Furnished</td>\n",
       "    </tr>\n",
       "    <tr>\n",
       "      <th>82015</th>\n",
       "      <td>Seller\\nVERIFIED OWNER</td>\n",
       "      <td>40,000</td>\n",
       "      <td>1900</td>\n",
       "      <td>3</td>\n",
       "      <td>No Deposit</td>\n",
       "      <td>3 bathrooms</td>\n",
       "      <td>NorthEast facing</td>\n",
       "      <td>Sector 79, Faridabad</td>\n",
       "      <td>Omaxe Royal Residency</td>\n",
       "      <td>Semi-Furnished</td>\n",
       "    </tr>\n",
       "  </tbody>\n",
       "</table>\n",
       "<p>82016 rows × 10 columns</p>\n",
       "</div>"
      ],
      "text/plain": [
       "                   broker_consultancy    Rent  Builtup Area  appartment_type  \\\n",
       "0      Kasturi Developers\\nBUILDER\\n-  20,000          1132                2   \n",
       "1      Kasturi Developers\\nBUILDER\\n-  20,000          1200                2   \n",
       "2      Kasturi Developers\\nBUILDER\\n-  30,000          1700                3   \n",
       "3              Seller\\nVERIFIED OWNER  28,500           750                2   \n",
       "4              Seller\\nVERIFIED OWNER  50,000          1400                3   \n",
       "...                               ...     ...           ...              ...   \n",
       "82011          Seller\\nVERIFIED OWNER  11,000          1100                2   \n",
       "82012          Seller\\nVERIFIED OWNER   9,000           900                2   \n",
       "82013          Seller\\nVERIFIED OWNER  22,000          2727                4   \n",
       "82014          Seller\\nVERIFIED OWNER  11,000           600                2   \n",
       "82015          Seller\\nVERIFIED OWNER  40,000          1900                3   \n",
       "\n",
       "              Deposit    Bathrooms            Facing                 Address  \\\n",
       "0          No Deposit  2 bathrooms  NorthEast facing            Ulwe, Mumbai   \n",
       "1          No Deposit  2 bathrooms  NorthEast facing            Ulwe, Mumbai   \n",
       "2          No Deposit  3 bathrooms  NorthEast facing            Ulwe, Mumbai   \n",
       "3          No Deposit  2 bathrooms               NaN  Kandivali West, Mumbai   \n",
       "4          No Deposit  3 bathrooms       East facing         Chembur, Mumbai   \n",
       "...               ...          ...               ...                     ...   \n",
       "82011  11,000 deposit  2 bathrooms               NaN     Sector 2, Faridabad   \n",
       "82012   9,000 deposit  2 bathrooms               NaN    Sector 91, Faridabad   \n",
       "82013  22,000 deposit  4 bathrooms               NaN    Sector 76, Faridabad   \n",
       "82014      No Deposit  2 bathrooms               NaN    Sector 88, Faridabad   \n",
       "82015      No Deposit  3 bathrooms  NorthEast facing    Sector 79, Faridabad   \n",
       "\n",
       "              Apartment Name          Status  \n",
       "0                  EV Castle     Unfurnished  \n",
       "1                        NaN     Unfurnished  \n",
       "2                        NaN  Semi-Furnished  \n",
       "3             Atul Blue Arch     Unfurnished  \n",
       "4               Godrej Prime  Semi-Furnished  \n",
       "...                      ...             ...  \n",
       "82011                    NaN     Unfurnished  \n",
       "82012    Gupta Surya Nagar 2  Semi-Furnished  \n",
       "82013                    NaN  Semi-Furnished  \n",
       "82014                    NaN  Semi-Furnished  \n",
       "82015  Omaxe Royal Residency  Semi-Furnished  \n",
       "\n",
       "[82016 rows x 10 columns]"
      ]
     },
     "execution_count": 258,
     "metadata": {},
     "output_type": "execute_result"
    }
   ],
   "source": [
    "data"
   ]
  },
  {
   "cell_type": "code",
   "execution_count": null,
   "id": "c423a7f9-4529-4288-87c1-bce357696466",
   "metadata": {},
   "outputs": [],
   "source": []
  },
  {
   "cell_type": "code",
   "execution_count": null,
   "id": "13a8f2f2-e5a1-4cc0-bec3-21bd85f7c560",
   "metadata": {},
   "outputs": [],
   "source": []
  },
  {
   "cell_type": "code",
   "execution_count": null,
   "id": "d0b1bc6d-d540-4e39-a966-773450185a4c",
   "metadata": {},
   "outputs": [],
   "source": []
  },
  {
   "cell_type": "code",
   "execution_count": null,
   "id": "88a46dd3-8f7c-442e-9337-7843e7d40b34",
   "metadata": {},
   "outputs": [],
   "source": []
  },
  {
   "cell_type": "code",
   "execution_count": null,
   "id": "5c00ef0f-1301-4e15-97c5-06283f627841",
   "metadata": {},
   "outputs": [],
   "source": []
  },
  {
   "cell_type": "code",
   "execution_count": null,
   "id": "33340568-e3fb-49ad-b21b-50bf86117c84",
   "metadata": {},
   "outputs": [],
   "source": []
  },
  {
   "cell_type": "code",
   "execution_count": null,
   "id": "6d1d0f1e-0476-4f75-a42b-3aba65c14d12",
   "metadata": {},
   "outputs": [],
   "source": []
  },
  {
   "cell_type": "code",
   "execution_count": null,
   "id": "16a3ea13-ac83-4227-8884-96ce8797da4a",
   "metadata": {},
   "outputs": [],
   "source": []
  }
 ],
 "metadata": {
  "kernelspec": {
   "display_name": "Python 3 (ipykernel)",
   "language": "python",
   "name": "python3"
  },
  "language_info": {
   "codemirror_mode": {
    "name": "ipython",
    "version": 3
   },
   "file_extension": ".py",
   "mimetype": "text/x-python",
   "name": "python",
   "nbconvert_exporter": "python",
   "pygments_lexer": "ipython3",
   "version": "3.10.12"
  }
 },
 "nbformat": 4,
 "nbformat_minor": 5
}
