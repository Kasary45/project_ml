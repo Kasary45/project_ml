{
 "cells": [
  {
   "cell_type": "code",
   "execution_count": 1,
   "id": "d2fefbaf-5e40-4c6f-8149-eaf17854be1a",
   "metadata": {},
   "outputs": [],
   "source": [
    "import numpy as np\n",
    "import pandas as pd\n",
    "import matplotlib.pyplot as plt\n",
    "import seaborn as sns"
   ]
  },
  {
   "cell_type": "code",
   "execution_count": null,
   "id": "e8bd3441-cf96-471e-8685-3162f4f5c5d5",
   "metadata": {},
   "outputs": [],
   "source": [
    "# mumbai city csv file:\n",
    "mumbai=pd.read_csv('mumbai.csv')\n"
   ]
  },
  {
   "cell_type": "code",
   "execution_count": null,
   "id": "b915f5bb-dbe3-40c5-b7cb-c149dcb4f5bf",
   "metadata": {},
   "outputs": [],
   "source": []
  }
 ],
 "metadata": {
  "kernelspec": {
   "display_name": "Python 3 (ipykernel)",
   "language": "python",
   "name": "python3"
  },
  "language_info": {
   "codemirror_mode": {
    "name": "ipython",
    "version": 3
   },
   "file_extension": ".py",
   "mimetype": "text/x-python",
   "name": "python",
   "nbconvert_exporter": "python",
   "pygments_lexer": "ipython3",
   "version": "3.10.12"
  }
 },
 "nbformat": 4,
 "nbformat_minor": 5
}
