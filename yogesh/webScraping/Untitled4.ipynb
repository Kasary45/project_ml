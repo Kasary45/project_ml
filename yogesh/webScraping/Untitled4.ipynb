{
 "cells": [
  {
   "cell_type": "code",
   "execution_count": null,
   "id": "443a3eb3-0f91-4ac8-bb5c-9b30b8bed92b",
   "metadata": {},
   "outputs": [],
   "source": [
    "# importing the required packages\n",
    "\n",
    "import numpy as np\n",
    "import pandas as pd\n",
    "import requests\n",
    "from bs4 import BeautifulSoup"
   ]
  },
  {
   "cell_type": "code",
   "execution_count": null,
   "id": "ef788641-cc5e-4aeb-839e-24242af47290",
   "metadata": {},
   "outputs": [],
   "source": [
    "# Requesting access to the data from the website\n",
    "\n",
    "url = 'https://www.nobroker.in/property/sale/pune/Hinjawadi%20Village?searchParam=W3sibGF0IjoxOC41OTE3MzU3LCJsb24iOjczLjc0NTYyODA5OTk5OTk5LCJwbGFjZUlkIjoiQ2hJSklSbUFxdUc3d2pzUjJWTGEzcDhUaFcwIiwicGxhY2VOYW1lIjoiSGluamF3YWRpIFZpbGxhZ2UifV0=&radius=2.0&city=pune&locality=Hinjawadi%20Village'\n",
    "headers = {\n",
    "    \"User-Agent\": \"Mozilla/5.0 (Windows NT 6.3; Win64; x64) Apple WeKit /537.36(KHTML, like Gecko) Chrome/80.0.3987.162 Safari/537.36\"\n",
    "}\n",
    "\n",
    "webpage = requests.get(url, headers=headers).text\n",
    "print(webpage)"
   ]
  },
  {
   "cell_type": "code",
   "execution_count": null,
   "id": "d5fe9095-a8a2-4c9b-9411-05e2c8c3eeb7",
   "metadata": {},
   "outputs": [],
   "source": [
    "# extracts the webpage data in html readable format\n",
    "\n",
    "soup = BeautifulSoup(webpage, 'lxml')\n",
    "soup"
   ]
  },
  {
   "cell_type": "code",
   "execution_count": null,
   "id": "c2e7ad9a-031d-4796-bbec-e819f5ba689b",
   "metadata": {},
   "outputs": [],
   "source": [
    "from selenium import webdriver\n",
    "from selenium.webdriver.common.by import By\n",
    "from selenium.webdriver.common.keys import Keys\n",
    "import time\n",
    "\n",
    "# Initialize the web driver with Chrome options\n",
    "chrome_options = webdriver.ChromeOptions()\n",
    "chrome_options.add_argument(\"User-Agent=Mozilla/5.0 (Windows NT 6.3; Win64; x64) Apple WeKit /537.36(KHTML, like Gecko) Chrome/80.0.3987.162 Safari/537.36\")\n",
    "\n",
    "driver = webdriver.Chrome(options=chrome_options)\n",
    "\n",
    "# Open the webpage\n",
    "driver.get(\"https://www.nobroker.in/property/sale/bangalore/Bangalore/?searchParam=W3sibGF0IjoxMi45Njk5MzM0NDAzNjgxLCJsb24iOjc3LjU5ODE3NzAzMjg1MjIsInBsYWNlSWQiOiJDaElKYlU2MHlYQVdyanNSNEU5LVVlakQzX2ciLCJwbGFjZU5hbWUiOiJCYW5nYWxvcmUiLCJzaG93TWFwIjpmYWxzZX1d&propType=AP&furnishing=FULLY_FURNISHED\")\n",
    "\n",
    "# Scroll to the end of the page to load all properties\n",
    "max_scrolls = 10\n",
    "scroll_count = 0\n",
    "\n",
    "while scroll_count < max_scrolls:\n",
    "    try:\n",
    "        # Scroll down the page\n",
    "        driver.find_element(By.TAG_NAME, 'body').send_keys(Keys.END)\n",
    "        # Add a sleep time to allow the page to load new content\n",
    "        time.sleep(2)\n",
    "        scroll_count += 1\n",
    "    except Exception:\n",
    "        # Break the loop when there's no more content to load\n",
    "        break\n",
    "\n",
    "# Parse the HTML content\n",
    "soup = BeautifulSoup(driver.page_source, 'lxml')\n",
    "\n",
    "# Find the price per sqft, property sqft facing and other data for all properties on the page\n",
    "prop_desc = soup.find_all('a', {'class':'overflow-hidden overflow-ellipsis whitespace-nowrap max-w-80pe po:max-w-full'})\n",
    "description = [i.text.strip() for i in prop_desc]\n",
    "\n",
    "price_per_sqft = soup.find_all('div', {'class': 'heading-7 flex'})\n",
    "per_sqft_price = [i.text.strip() for i in price_per_sqft]\n",
    "\n",
    "prop_sqft = soup.find_all('div', {'class':'font-semi-bold heading-6', 'itemprop':'valueReference', 'id':'minRent'})\n",
    "sqft = [i.text.strip() for i in prop_sqft]\n",
    "\n",
    "prop_facing = soup.find_all('div', {'class':'font-semibold'})\n",
    "facing = [i.text.strip() for i in prop_facing]\n",
    "\n",
    "\n",
    "# Close the driver when you're done\n",
    "driver.close()"
   ]
  },
  {
   "cell_type": "code",
   "execution_count": null,
   "id": "46b23808-57e8-495f-9869-24d884a71f14",
   "metadata": {},
   "outputs": [],
   "source": [
    "data_list = ['List', 'Map', 'West', '3 BHK', '4', 'Bike and Car', 'Discover services at', 'East', '2 BHK', '2', 'Bike and Car', 'North', '3 BHK', '3', 'Bike and Car', 'North', '3 BHK', '3', 'Car', 'East', '2 BHK', '2', 'Bike and Car', 'West', '2 BHK', '2', 'Bike and Car', 'East', '2 BHK', '2', 'Car', 'West', '3 BHK', '2', 'Bike and Car', 'North-East', '2 BHK', '2', 'Bike and Car', 'Explore More Properties', 'North', '3 BHK', '2', 'Car', 'North', '3 BHK', '2', 'Bike and Car', 'North', '2 BHK', '2', 'Bike and Car', 'East', '2 BHK', '2', 'Car', 'East', '2 BHK', '2', 'Car', 'West', '2 BHK', '2', 'Car', 'North-West', '3 BHK', '2', 'Bike and Car', 'East', '1 BHK', '1', 'Bike and Car', 'West', '2 BHK', '2', 'Car', 'North', '3 BHK', '2', 'Bike and Car', 'South', '2 BHK', '2', 'Bike and Car', 'West', '2 BHK', '2', 'Bike and Car', 'North', '3 BHK', '2', 'Bike and Car', 'East', '2 BHK', '2', 'Bike and Car', 'East', '2 BHK', '2', 'Car', 'East', '2 BHK', '2', 'Bike', 'East', '3 BHK', '2', 'Bike and Car', 'Explore More Properties', 'North', '2 BHK', '2', 'Bike and Car', 'East', '2 BHK', '2', 'Car', 'North', '3 BHK', '4', 'Car', 'North', '3 BHK', '3', 'Car', 'East', '2 BHK', '2', 'Bike and Car', 'West', '3 BHK', '3', 'Bike and Car', 'North', '2 BHK', '2', 'Bike', 'West', '3 BHK', '3', 'Car', 'East', '3 BHK', '3', 'Car', 'South', '2 BHK', '2', 'Bike and Car', 'North', '2 BHK', '2', 'Bike and Car', 'East', '3 BHK', '3', 'Car', 'North', '2 BHK', '2', 'Bike and Car', 'West', '3 BHK', '2', 'Bike and Car', 'East', '2 BHK', '2', 'Car', 'West', '3 BHK', '2', 'Bike and Car', 'West', '1 BHK', '1', 'Bike and Car', 'West', '3 BHK', '3', 'Bike and Car', 'North-East', '4 BHK', '4', 'Car', 'East', '3 BHK', '3', 'Car', 'East', '2 BHK', '2', 'Bike and Car', 'West', '3 BHK', '2', 'Bike and Car', 'North', '3 BHK', '2', 'Car', 'East', '2 BHK', '2', 'Bike and Car']\n",
    "\n",
    "# Initialize lists to store the separated data\n",
    "facing_list = []\n",
    "bedroom_list = []\n",
    "bath_list = []\n",
    "parking_list = []\n",
    "\n",
    "# Loop through the data list\n",
    "for item in data_list:\n",
    "    # Check if the item represents facing (e.g., 'North', 'East', etc.)\n",
    "    if item in ['North', 'East', 'West', 'South', 'North-East', 'North-West']:\n",
    "        facing_list.append(item)\n",
    "    # Check if the item represents the number of bedrooms (e.g., '2 BHK', '3 BHK', etc.)\n",
    "    elif item.endswith('BHK'):\n",
    "        bedroom_list.append(item)\n",
    "    # Check if the item represents the number of baths (e.g., '2', '3', etc.)\n",
    "    elif item.isdigit() and int(item) >= 1:\n",
    "        bath_list.append(item)\n",
    "    # Check if the item represents parking availability (e.g., 'Bike and Car', 'Car', 'Bike', etc.)\n",
    "    elif item in ['Bike and Car', 'Car', 'Bike']:\n",
    "        parking_list.append(item)\n",
    "\n",
    "# Print the separated data\n",
    "print(\"Facing:\", facing_list)\n",
    "print(\"Bedrooms:\", bedroom_list)\n",
    "print(\"Baths:\", bath_list)\n",
    "print(\"Parking Availability:\", parking_list)\n"
   ]
  },
  {
   "cell_type": "code",
   "execution_count": null,
   "id": "9f3947b4-743d-4bcf-9e36-5f8bdcdf0615",
   "metadata": {},
   "outputs": [],
   "source": [
    "# Need to filter per_sqft_price:\n",
    "\n",
    "sqft_price = []\n",
    "\n",
    "for price in per_sqft_price:\n",
    "    if price.endswith('per sq.ft.'):\n",
    "        sqft_price.append(price)"
   ]
  },
  {
   "cell_type": "code",
   "execution_count": null,
   "id": "646c3222-a28c-41eb-b8ee-5f04cecc464d",
   "metadata": {},
   "outputs": [],
   "source": [
    "# Need to filter per_sqft_price:\n",
    "\n",
    "sqft_price = []\n",
    "\n",
    "for price in per_sqft_price:\n",
    "    if price.endswith('per sq.ft.'):\n",
    "        sqft_price.append(price)"
   ]
  }
 ],
 "metadata": {
  "kernelspec": {
   "display_name": "Python 3 (ipykernel)",
   "language": "python",
   "name": "python3"
  },
  "language_info": {
   "codemirror_mode": {
    "name": "ipython",
    "version": 3
   },
   "file_extension": ".py",
   "mimetype": "text/x-python",
   "name": "python",
   "nbconvert_exporter": "python",
   "pygments_lexer": "ipython3",
   "version": "3.10.12"
  }
 },
 "nbformat": 4,
 "nbformat_minor": 5
}
