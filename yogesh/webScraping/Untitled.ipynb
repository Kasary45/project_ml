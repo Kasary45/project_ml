{
 "cells": [
  {
   "cell_type": "code",
   "execution_count": 1,
   "id": "f8647e34-3d94-420f-9501-e46685a1da6a",
   "metadata": {},
   "outputs": [],
   "source": [
    "from selenium import webdriver\n",
    "from selenium.webdriver.firefox.service import Service\n",
    "from selenium.webdriver.common.keys import Keys\n",
    "from selenium.webdriver.common.by import By\n",
    "import time"
   ]
  },
  {
   "cell_type": "code",
   "execution_count": 2,
   "id": "f24029e1-0509-4b3d-93af-a0f654878120",
   "metadata": {},
   "outputs": [],
   "source": [
    "service = Service(executable_path='/snap/bin/geckodriver')\n",
    "browser = webdriver.Firefox(service=service)"
   ]
  },
  {
   "cell_type": "code",
   "execution_count": 3,
   "id": "ade904c1-eb55-46d8-973a-e7ca99d926ed",
   "metadata": {},
   "outputs": [],
   "source": [
    "browser.get('https://google.co.in')"
   ]
  },
  {
   "cell_type": "code",
   "execution_count": 4,
   "id": "c707ed89-0ab9-4db0-b6ca-742bf5ca8f27",
   "metadata": {},
   "outputs": [],
   "source": [
    "# sleep for 5 seconds\n",
    "time.sleep(5)"
   ]
  },
  {
   "cell_type": "code",
   "execution_count": 5,
   "id": "24f9ef52-6e41-4468-8265-eb0fa9471c30",
   "metadata": {},
   "outputs": [],
   "source": [
    "# close the browser\n",
    "browser.close()"
   ]
  },
  {
   "cell_type": "code",
   "execution_count": 6,
   "id": "31ee3c69-ed6b-4b5a-93b5-9be3727a2428",
   "metadata": {},
   "outputs": [
    {
     "ename": "InvalidSessionIdException",
     "evalue": "Message: Tried to run command without establishing a connection\n",
     "output_type": "error",
     "traceback": [
      "\u001b[0;31m---------------------------------------------------------------------------\u001b[0m",
      "\u001b[0;31mInvalidSessionIdException\u001b[0m                 Traceback (most recent call last)",
      "Cell \u001b[0;32mIn[6], line 1\u001b[0m\n\u001b[0;32m----> 1\u001b[0m \u001b[38;5;28minput\u001b[39m \u001b[38;5;241m=\u001b[39m \u001b[43mbrowser\u001b[49m\u001b[38;5;241;43m.\u001b[39;49m\u001b[43mfind_element\u001b[49m\u001b[43m(\u001b[49m\u001b[43mBy\u001b[49m\u001b[38;5;241;43m.\u001b[39;49m\u001b[43mNAME\u001b[49m\u001b[43m,\u001b[49m\u001b[43m \u001b[49m\u001b[38;5;124;43m\"\u001b[39;49m\u001b[38;5;124;43mq\u001b[39;49m\u001b[38;5;124;43m\"\u001b[39;49m\u001b[43m)\u001b[49m\n",
      "File \u001b[0;32m~/.local/lib/python3.10/site-packages/selenium/webdriver/remote/webdriver.py:741\u001b[0m, in \u001b[0;36mWebDriver.find_element\u001b[0;34m(self, by, value)\u001b[0m\n\u001b[1;32m    738\u001b[0m     by \u001b[38;5;241m=\u001b[39m By\u001b[38;5;241m.\u001b[39mCSS_SELECTOR\n\u001b[1;32m    739\u001b[0m     value \u001b[38;5;241m=\u001b[39m \u001b[38;5;124mf\u001b[39m\u001b[38;5;124m'\u001b[39m\u001b[38;5;124m[name=\u001b[39m\u001b[38;5;124m\"\u001b[39m\u001b[38;5;132;01m{\u001b[39;00mvalue\u001b[38;5;132;01m}\u001b[39;00m\u001b[38;5;124m\"\u001b[39m\u001b[38;5;124m]\u001b[39m\u001b[38;5;124m'\u001b[39m\n\u001b[0;32m--> 741\u001b[0m \u001b[38;5;28;01mreturn\u001b[39;00m \u001b[38;5;28;43mself\u001b[39;49m\u001b[38;5;241;43m.\u001b[39;49m\u001b[43mexecute\u001b[49m\u001b[43m(\u001b[49m\u001b[43mCommand\u001b[49m\u001b[38;5;241;43m.\u001b[39;49m\u001b[43mFIND_ELEMENT\u001b[49m\u001b[43m,\u001b[49m\u001b[43m \u001b[49m\u001b[43m{\u001b[49m\u001b[38;5;124;43m\"\u001b[39;49m\u001b[38;5;124;43musing\u001b[39;49m\u001b[38;5;124;43m\"\u001b[39;49m\u001b[43m:\u001b[49m\u001b[43m \u001b[49m\u001b[43mby\u001b[49m\u001b[43m,\u001b[49m\u001b[43m \u001b[49m\u001b[38;5;124;43m\"\u001b[39;49m\u001b[38;5;124;43mvalue\u001b[39;49m\u001b[38;5;124;43m\"\u001b[39;49m\u001b[43m:\u001b[49m\u001b[43m \u001b[49m\u001b[43mvalue\u001b[49m\u001b[43m}\u001b[49m\u001b[43m)\u001b[49m[\u001b[38;5;124m\"\u001b[39m\u001b[38;5;124mvalue\u001b[39m\u001b[38;5;124m\"\u001b[39m]\n",
      "File \u001b[0;32m~/.local/lib/python3.10/site-packages/selenium/webdriver/remote/webdriver.py:347\u001b[0m, in \u001b[0;36mWebDriver.execute\u001b[0;34m(self, driver_command, params)\u001b[0m\n\u001b[1;32m    345\u001b[0m response \u001b[38;5;241m=\u001b[39m \u001b[38;5;28mself\u001b[39m\u001b[38;5;241m.\u001b[39mcommand_executor\u001b[38;5;241m.\u001b[39mexecute(driver_command, params)\n\u001b[1;32m    346\u001b[0m \u001b[38;5;28;01mif\u001b[39;00m response:\n\u001b[0;32m--> 347\u001b[0m     \u001b[38;5;28;43mself\u001b[39;49m\u001b[38;5;241;43m.\u001b[39;49m\u001b[43merror_handler\u001b[49m\u001b[38;5;241;43m.\u001b[39;49m\u001b[43mcheck_response\u001b[49m\u001b[43m(\u001b[49m\u001b[43mresponse\u001b[49m\u001b[43m)\u001b[49m\n\u001b[1;32m    348\u001b[0m     response[\u001b[38;5;124m\"\u001b[39m\u001b[38;5;124mvalue\u001b[39m\u001b[38;5;124m\"\u001b[39m] \u001b[38;5;241m=\u001b[39m \u001b[38;5;28mself\u001b[39m\u001b[38;5;241m.\u001b[39m_unwrap_value(response\u001b[38;5;241m.\u001b[39mget(\u001b[38;5;124m\"\u001b[39m\u001b[38;5;124mvalue\u001b[39m\u001b[38;5;124m\"\u001b[39m, \u001b[38;5;28;01mNone\u001b[39;00m))\n\u001b[1;32m    349\u001b[0m     \u001b[38;5;28;01mreturn\u001b[39;00m response\n",
      "File \u001b[0;32m~/.local/lib/python3.10/site-packages/selenium/webdriver/remote/errorhandler.py:229\u001b[0m, in \u001b[0;36mErrorHandler.check_response\u001b[0;34m(self, response)\u001b[0m\n\u001b[1;32m    227\u001b[0m         alert_text \u001b[38;5;241m=\u001b[39m value[\u001b[38;5;124m\"\u001b[39m\u001b[38;5;124malert\u001b[39m\u001b[38;5;124m\"\u001b[39m]\u001b[38;5;241m.\u001b[39mget(\u001b[38;5;124m\"\u001b[39m\u001b[38;5;124mtext\u001b[39m\u001b[38;5;124m\"\u001b[39m)\n\u001b[1;32m    228\u001b[0m     \u001b[38;5;28;01mraise\u001b[39;00m exception_class(message, screen, stacktrace, alert_text)  \u001b[38;5;66;03m# type: ignore[call-arg]  # mypy is not smart enough here\u001b[39;00m\n\u001b[0;32m--> 229\u001b[0m \u001b[38;5;28;01mraise\u001b[39;00m exception_class(message, screen, stacktrace)\n",
      "\u001b[0;31mInvalidSessionIdException\u001b[0m: Message: Tried to run command without establishing a connection\n"
     ]
    }
   ],
   "source": [
    "input = browser.find_element(By.NAME, \"q\")\n"
   ]
  },
  {
   "cell_type": "code",
   "execution_count": 7,
   "id": "760ffc39-0cf1-42cc-8f13-bc9f0a7dfd59",
   "metadata": {},
   "outputs": [
    {
     "ename": "AttributeError",
     "evalue": "'function' object has no attribute 'send_keys'",
     "output_type": "error",
     "traceback": [
      "\u001b[0;31m---------------------------------------------------------------------------\u001b[0m",
      "\u001b[0;31mAttributeError\u001b[0m                            Traceback (most recent call last)",
      "Cell \u001b[0;32mIn[7], line 1\u001b[0m\n\u001b[0;32m----> 1\u001b[0m \u001b[38;5;28;43minput\u001b[39;49m\u001b[38;5;241;43m.\u001b[39;49m\u001b[43msend_keys\u001b[49m(\u001b[38;5;124m\"\u001b[39m\u001b[38;5;124miphone\u001b[39m\u001b[38;5;124m\"\u001b[39m)\n\u001b[1;32m      2\u001b[0m time\u001b[38;5;241m.\u001b[39msleep(\u001b[38;5;241m5\u001b[39m)\n",
      "\u001b[0;31mAttributeError\u001b[0m: 'function' object has no attribute 'send_keys'"
     ]
    }
   ],
   "source": [
    "input.send_keys(\"iphone\")\n",
    "time.sleep(5)"
   ]
  },
  {
   "cell_type": "code",
   "execution_count": null,
   "id": "5b854c87-baa9-4b30-8199-ae9f5c49c3d6",
   "metadata": {},
   "outputs": [],
   "source": [
    "#\n",
    "#close the browser\n",
    "browser.close()\n"
   ]
  },
  {
   "cell_type": "code",
   "execution_count": 10,
   "id": "5be81691-0620-49db-87d7-4c2d26eb6431",
   "metadata": {},
   "outputs": [],
   "source": [
    "from selenium import webdriver\n",
    "from selenium.webdriver.firefox.service import Service\n",
    "import time\n",
    "from selenium.webdriver.common.keys import Keys\n",
    "from selenium.webdriver.common.by import By\n",
    "\n",
    "service = Service(executable_path=\"/snap/bin/geckodriver\")\n",
    "browser = webdriver.Firefox(service=service)\n",
    "#browser = webdriver.Firefox()\n",
    "\n",
    "# visit google.co.in\n",
    "browser.get('https://google.co.in')\n",
    "\n",
    "# wait for 5 seconds\n",
    "time.sleep(5)\n",
    "\n",
    "# search for the input box (textarea) named\n",
    "# input = soup.find('textarea', {\"name\": \"q\"})\n",
    "input = browser.find_element(By.NAME, \"q\")\n",
    "\n",
    "\n",
    "# enter iphone in the input\n",
    "input.send_keys(\"//www.accuweather.com/en/in/pune/204848/daily-weather-forecast/204848\")\n",
    "input.send_keys(Keys.ENTER)\n",
    "\n",
    "time.sleep(5)\n",
    "browser.close()"
   ]
  },
  {
   "cell_type": "code",
   "execution_count": null,
   "id": "739094e8-17ed-4fca-9421-9a4d19db93c1",
   "metadata": {},
   "outputs": [],
   "source": [
    "from selenium import webdriver\n",
    "from selenium.webdriver.firefox.service import Service\n",
    "import time\n",
    "from selenium.webdriver.common.keys import Keys\n",
    "from selenium.webdriver.common.by import By\n",
    "\n",
    "service = Service(executable_path=\"/snap/bin/geckodriver\")\n",
    "browser = webdriver.Firefox(service=service)\n",
    "#browser = webdriver.Firefox()\n",
    "\n",
    "# visit google.co.in\n",
    "browser.get('https://google.co.in')\n",
    "\n",
    "# wait for 5 seconds\n",
    "time.sleep(5)\n",
    "\n",
    "# search for the input box (textarea) named\n",
    "# input = soup.find('textarea', {\"name\": \"q\"})\n",
    "input = browser.find_element(By.NAME, \"q\")\n",
    "\n",
    "\n",
    "# enter iphone in the input\n",
    "input.send_keys(\"//www.accuweather.com/en/in/pune/204848/daily-weather-forecast/204848\")\n",
    "input.send_keys(Keys.ENTER)"
   ]
  },
  {
   "cell_type": "code",
   "execution_count": 11,
   "id": "e968c85a-c5d7-47f8-bcc2-95e367a4c629",
   "metadata": {},
   "outputs": [
    {
     "name": "stdout",
     "output_type": "stream",
     "text": [
      "day: THU, date: 5/9\n",
      "day: FRI, date: 5/10\n",
      "day: SAT, date: 5/11\n",
      "day: SUN, date: 5/12\n",
      "day: MON, date: 5/13\n",
      "day: TUE, date: 5/14\n",
      "day: WED, date: 5/15\n",
      "day: THU, date: 5/16\n",
      "day: FRI, date: 5/17\n",
      "day: SAT, date: 5/18\n",
      "day: SUN, date: 5/19\n",
      "day: MON, date: 5/20\n",
      "day: TUE, date: 5/21\n",
      "day: WED, date: 5/22\n",
      "day: THU, date: 5/23\n",
      "day: FRI, date: 5/24\n",
      "day: SAT, date: 5/25\n",
      "day: SUN, date: 5/26\n",
      "day: MON, date: 5/27\n",
      "day: TUE, date: 5/28\n",
      "day: WED, date: 5/29\n",
      "day: THU, date: 5/30\n",
      "day: FRI, date: 5/31\n",
      "day: SAT, date: 6/1\n",
      "day: SUN, date: 6/2\n",
      "day: MON, date: 6/3\n",
      "day: TUE, date: 6/4\n",
      "day: WED, date: 6/5\n",
      "day: THU, date: 6/6\n",
      "day: FRI, date: 6/7\n",
      "day: SAT, date: 6/8\n",
      "day: SUN, date: 6/9\n",
      "day: MON, date: 6/10\n",
      "day: TUE, date: 6/11\n",
      "day: WED, date: 6/12\n",
      "day: THU, date: 6/13\n",
      "day: FRI, date: 6/14\n",
      "day: SAT, date: 6/15\n",
      "day: SUN, date: 6/16\n",
      "day: MON, date: 6/17\n",
      "day: TUE, date: 6/18\n",
      "day: WED, date: 6/19\n",
      "day: THU, date: 6/20\n",
      "day: FRI, date: 6/21\n",
      "day: SAT, date: 6/22\n"
     ]
    }
   ],
   "source": [
    "from selenium import webdriver\n",
    "from selenium.webdriver.firefox.service import Service\n",
    "import time\n",
    "from selenium.webdriver.common.keys import Keys\n",
    "from selenium.webdriver.common.by import By\n",
    "\n",
    "service = Service(executable_path=\"/snap/bin/geckodriver\")\n",
    "browser = webdriver.Firefox(service=service)\n",
    "#browser = webdriver.Firefox()\n",
    "\n",
    "# visit google.co.in\n",
    "browser.get('https://google.co.in')\n",
    "\n",
    "# wait for 5 seconds\n",
    "time.sleep(5)\n",
    "\n",
    "# search for the input box (textarea) named\n",
    "# input = soup.find('textarea', {\"name\": \"q\"})\n",
    "input = browser.find_element(By.NAME, \"q\")\n",
    "\n",
    "\n",
    "# visit the required url\n",
    "browser.get('https://www.accuweather.com/en/in/pune/204848/daily-weather-forecast/204848')\n",
    "time.sleep(2)\n",
    "\n",
    "# find the parent element by class\n",
    "parent_div = browser.find_element(By.CLASS_NAME, \"page-content\")\n",
    "# print(parent_div.text)\n",
    "\n",
    "# find the child elements\n",
    "daily_wrapper_divs = parent_div.find_elements(By.CLASS_NAME, \"daily-wrapper\")\n",
    "\n",
    "# iterate over all the child elements\n",
    "for daily_wrapper_div in daily_wrapper_divs:\n",
    "    # search for day and date\n",
    "    module_header_divs = daily_wrapper_div.find_elements(By.CLASS_NAME, \"module-header\")\n",
    "\n",
    "    # extract the day\n",
    "    day = module_header_divs[0].text\n",
    "\n",
    "    # extract the date\n",
    "    date = module_header_divs[1].text\n",
    "\n",
    "    print(f\"day: {day}, date: {date}\")\n",
    "\n",
    "browser.close()\n"
   ]
  },
  {
   "cell_type": "code",
   "execution_count": null,
   "id": "c0af37b0-4c25-4a27-a125-3b9ad73b38f5",
   "metadata": {},
   "outputs": [],
   "source": [
    "page-content content-module"
   ]
  },
  {
   "cell_type": "code",
   "execution_count": null,
   "id": "18a41032-ab69-48b0-97f5-1a2c3d82c4ae",
   "metadata": {},
   "outputs": [],
   "source": [
    "content-module"
   ]
  },
  {
   "cell_type": "code",
   "execution_count": 14,
   "id": "2e917683-aeb7-4215-8fc6-5a69fe6c8094",
   "metadata": {},
   "outputs": [
    {
     "ename": "NoSuchElementException",
     "evalue": "Message: Unable to locate element: [name=\"search-form\"]; For documentation on this error, please visit: https://www.selenium.dev/documentation/webdriver/troubleshooting/errors#no-such-element-exception\nStacktrace:\nRemoteError@chrome://remote/content/shared/RemoteError.sys.mjs:8:8\nWebDriverError@chrome://remote/content/shared/webdriver/Errors.sys.mjs:193:5\nNoSuchElementError@chrome://remote/content/shared/webdriver/Errors.sys.mjs:511:5\ndom.find/</<@chrome://remote/content/shared/DOM.sys.mjs:136:16\n",
     "output_type": "error",
     "traceback": [
      "\u001b[0;31m---------------------------------------------------------------------------\u001b[0m",
      "\u001b[0;31mNoSuchElementException\u001b[0m                    Traceback (most recent call last)",
      "Cell \u001b[0;32mIn[14], line 26\u001b[0m\n\u001b[1;32m     23\u001b[0m browser\u001b[38;5;241m.\u001b[39mget(\u001b[38;5;124m'\u001b[39m\u001b[38;5;124mhttps://www.accuweather.com/en/in/pune/204848/daily-weather-forecast/204848\u001b[39m\u001b[38;5;124m'\u001b[39m)\n\u001b[1;32m     24\u001b[0m time\u001b[38;5;241m.\u001b[39msleep(\u001b[38;5;241m2\u001b[39m)\n\u001b[0;32m---> 26\u001b[0m \u001b[38;5;28minput\u001b[39m \u001b[38;5;241m=\u001b[39m \u001b[43mbrowser\u001b[49m\u001b[38;5;241;43m.\u001b[39;49m\u001b[43mfind_element\u001b[49m\u001b[43m(\u001b[49m\u001b[43mBy\u001b[49m\u001b[38;5;241;43m.\u001b[39;49m\u001b[43mNAME\u001b[49m\u001b[43m,\u001b[49m\u001b[43m \u001b[49m\u001b[38;5;124;43m\"\u001b[39;49m\u001b[38;5;124;43msearch-form\u001b[39;49m\u001b[38;5;124;43m\"\u001b[39;49m\u001b[43m)\u001b[49m\n\u001b[1;32m     27\u001b[0m \u001b[38;5;28minput\u001b[39m\u001b[38;5;241m.\u001b[39msend_keys(\u001b[38;5;124m\"\u001b[39m\u001b[38;5;124mMumbai\u001b[39m\u001b[38;5;124m\"\u001b[39m)\n\u001b[1;32m     28\u001b[0m \u001b[38;5;28minput\u001b[39m\u001b[38;5;241m.\u001b[39msend_keys(Keys\u001b[38;5;241m.\u001b[39mENTER)\n",
      "File \u001b[0;32m~/.local/lib/python3.10/site-packages/selenium/webdriver/remote/webdriver.py:741\u001b[0m, in \u001b[0;36mWebDriver.find_element\u001b[0;34m(self, by, value)\u001b[0m\n\u001b[1;32m    738\u001b[0m     by \u001b[38;5;241m=\u001b[39m By\u001b[38;5;241m.\u001b[39mCSS_SELECTOR\n\u001b[1;32m    739\u001b[0m     value \u001b[38;5;241m=\u001b[39m \u001b[38;5;124mf\u001b[39m\u001b[38;5;124m'\u001b[39m\u001b[38;5;124m[name=\u001b[39m\u001b[38;5;124m\"\u001b[39m\u001b[38;5;132;01m{\u001b[39;00mvalue\u001b[38;5;132;01m}\u001b[39;00m\u001b[38;5;124m\"\u001b[39m\u001b[38;5;124m]\u001b[39m\u001b[38;5;124m'\u001b[39m\n\u001b[0;32m--> 741\u001b[0m \u001b[38;5;28;01mreturn\u001b[39;00m \u001b[38;5;28;43mself\u001b[39;49m\u001b[38;5;241;43m.\u001b[39;49m\u001b[43mexecute\u001b[49m\u001b[43m(\u001b[49m\u001b[43mCommand\u001b[49m\u001b[38;5;241;43m.\u001b[39;49m\u001b[43mFIND_ELEMENT\u001b[49m\u001b[43m,\u001b[49m\u001b[43m \u001b[49m\u001b[43m{\u001b[49m\u001b[38;5;124;43m\"\u001b[39;49m\u001b[38;5;124;43musing\u001b[39;49m\u001b[38;5;124;43m\"\u001b[39;49m\u001b[43m:\u001b[49m\u001b[43m \u001b[49m\u001b[43mby\u001b[49m\u001b[43m,\u001b[49m\u001b[43m \u001b[49m\u001b[38;5;124;43m\"\u001b[39;49m\u001b[38;5;124;43mvalue\u001b[39;49m\u001b[38;5;124;43m\"\u001b[39;49m\u001b[43m:\u001b[49m\u001b[43m \u001b[49m\u001b[43mvalue\u001b[49m\u001b[43m}\u001b[49m\u001b[43m)\u001b[49m[\u001b[38;5;124m\"\u001b[39m\u001b[38;5;124mvalue\u001b[39m\u001b[38;5;124m\"\u001b[39m]\n",
      "File \u001b[0;32m~/.local/lib/python3.10/site-packages/selenium/webdriver/remote/webdriver.py:347\u001b[0m, in \u001b[0;36mWebDriver.execute\u001b[0;34m(self, driver_command, params)\u001b[0m\n\u001b[1;32m    345\u001b[0m response \u001b[38;5;241m=\u001b[39m \u001b[38;5;28mself\u001b[39m\u001b[38;5;241m.\u001b[39mcommand_executor\u001b[38;5;241m.\u001b[39mexecute(driver_command, params)\n\u001b[1;32m    346\u001b[0m \u001b[38;5;28;01mif\u001b[39;00m response:\n\u001b[0;32m--> 347\u001b[0m     \u001b[38;5;28;43mself\u001b[39;49m\u001b[38;5;241;43m.\u001b[39;49m\u001b[43merror_handler\u001b[49m\u001b[38;5;241;43m.\u001b[39;49m\u001b[43mcheck_response\u001b[49m\u001b[43m(\u001b[49m\u001b[43mresponse\u001b[49m\u001b[43m)\u001b[49m\n\u001b[1;32m    348\u001b[0m     response[\u001b[38;5;124m\"\u001b[39m\u001b[38;5;124mvalue\u001b[39m\u001b[38;5;124m\"\u001b[39m] \u001b[38;5;241m=\u001b[39m \u001b[38;5;28mself\u001b[39m\u001b[38;5;241m.\u001b[39m_unwrap_value(response\u001b[38;5;241m.\u001b[39mget(\u001b[38;5;124m\"\u001b[39m\u001b[38;5;124mvalue\u001b[39m\u001b[38;5;124m\"\u001b[39m, \u001b[38;5;28;01mNone\u001b[39;00m))\n\u001b[1;32m    349\u001b[0m     \u001b[38;5;28;01mreturn\u001b[39;00m response\n",
      "File \u001b[0;32m~/.local/lib/python3.10/site-packages/selenium/webdriver/remote/errorhandler.py:229\u001b[0m, in \u001b[0;36mErrorHandler.check_response\u001b[0;34m(self, response)\u001b[0m\n\u001b[1;32m    227\u001b[0m         alert_text \u001b[38;5;241m=\u001b[39m value[\u001b[38;5;124m\"\u001b[39m\u001b[38;5;124malert\u001b[39m\u001b[38;5;124m\"\u001b[39m]\u001b[38;5;241m.\u001b[39mget(\u001b[38;5;124m\"\u001b[39m\u001b[38;5;124mtext\u001b[39m\u001b[38;5;124m\"\u001b[39m)\n\u001b[1;32m    228\u001b[0m     \u001b[38;5;28;01mraise\u001b[39;00m exception_class(message, screen, stacktrace, alert_text)  \u001b[38;5;66;03m# type: ignore[call-arg]  # mypy is not smart enough here\u001b[39;00m\n\u001b[0;32m--> 229\u001b[0m \u001b[38;5;28;01mraise\u001b[39;00m exception_class(message, screen, stacktrace)\n",
      "\u001b[0;31mNoSuchElementException\u001b[0m: Message: Unable to locate element: [name=\"search-form\"]; For documentation on this error, please visit: https://www.selenium.dev/documentation/webdriver/troubleshooting/errors#no-such-element-exception\nStacktrace:\nRemoteError@chrome://remote/content/shared/RemoteError.sys.mjs:8:8\nWebDriverError@chrome://remote/content/shared/webdriver/Errors.sys.mjs:193:5\nNoSuchElementError@chrome://remote/content/shared/webdriver/Errors.sys.mjs:511:5\ndom.find/</<@chrome://remote/content/shared/DOM.sys.mjs:136:16\n"
     ]
    }
   ],
   "source": [
    "from selenium import webdriver\n",
    "from selenium.webdriver.firefox.service import Service\n",
    "import time\n",
    "from selenium.webdriver.common.keys import Keys\n",
    "from selenium.webdriver.common.by import By\n",
    "\n",
    "service = Service(executable_path=\"/snap/bin/geckodriver\")\n",
    "browser = webdriver.Firefox(service=service)\n",
    "#browser = webdriver.Firefox()\n",
    "\n",
    "# visit google.co.in\n",
    "browser.get('https://google.co.in')\n",
    "\n",
    "# wait for 5 seconds\n",
    "time.sleep(5)\n",
    "\n",
    "# search for the input box (textarea) named\n",
    "# input = soup.find('textarea', {\"name\": \"q\"})\n",
    "input = browser.find_element(By.NAME, \"q\")\n",
    "\n",
    "\n",
    "# visit the required url\n",
    "browser.get('https://www.accuweather.com/en/in/pune/204848/daily-weather-forecast/204848')\n",
    "time.sleep(2)\n",
    "\n",
    "input = browser.find_element(By.NAME, \"search-form\")\n",
    "input.send_keys(\"Mumbai\")\n",
    "input.send_keys(Keys.ENTER)\n",
    "\n",
    "\n"
   ]
  },
  {
   "cell_type": "code",
   "execution_count": null,
   "id": "08b0bbb9-2ce9-4408-a9ac-8b30646ab024",
   "metadata": {},
   "outputs": [],
   "source": []
  }
 ],
 "metadata": {
  "kernelspec": {
   "display_name": "Python 3 (ipykernel)",
   "language": "python",
   "name": "python3"
  },
  "language_info": {
   "codemirror_mode": {
    "name": "ipython",
    "version": 3
   },
   "file_extension": ".py",
   "mimetype": "text/x-python",
   "name": "python",
   "nbconvert_exporter": "python",
   "pygments_lexer": "ipython3",
   "version": "3.10.12"
  }
 },
 "nbformat": 4,
 "nbformat_minor": 5
}
