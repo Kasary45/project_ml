{
 "cells": [
  {
   "cell_type": "code",
   "execution_count": 1,
   "id": "663668f9-528c-4e0f-a552-34fc6e2783fd",
   "metadata": {},
   "outputs": [
    {
     "name": "stdout",
     "output_type": "stream",
     "text": [
      "Starting scraping from URL: https://www.nobroker.in/flats-for-rent-in-pune_pune\n"
     ]
    },
    {
     "ename": "NoSuchDriverException",
     "evalue": "Message: Unable to obtain driver for firefox; For documentation on this error, please visit: https://www.selenium.dev/documentation/webdriver/troubleshooting/errors/driver_location\n",
     "output_type": "error",
     "traceback": [
      "\u001b[0;31m---------------------------------------------------------------------------\u001b[0m",
      "\u001b[0;31mValueError\u001b[0m                                Traceback (most recent call last)",
      "File \u001b[0;32m~/.local/lib/python3.10/site-packages/selenium/webdriver/common/driver_finder.py:64\u001b[0m, in \u001b[0;36mDriverFinder._binary_paths\u001b[0;34m(self)\u001b[0m\n\u001b[1;32m     63\u001b[0m \u001b[38;5;28;01mif\u001b[39;00m \u001b[38;5;129;01mnot\u001b[39;00m Path(path)\u001b[38;5;241m.\u001b[39mis_file():\n\u001b[0;32m---> 64\u001b[0m     \u001b[38;5;28;01mraise\u001b[39;00m \u001b[38;5;167;01mValueError\u001b[39;00m(\u001b[38;5;124mf\u001b[39m\u001b[38;5;124m\"\u001b[39m\u001b[38;5;124mThe path is not a valid file: \u001b[39m\u001b[38;5;132;01m{\u001b[39;00mpath\u001b[38;5;132;01m}\u001b[39;00m\u001b[38;5;124m\"\u001b[39m)\n\u001b[1;32m     65\u001b[0m \u001b[38;5;28mself\u001b[39m\u001b[38;5;241m.\u001b[39m_paths[\u001b[38;5;124m\"\u001b[39m\u001b[38;5;124mdriver_path\u001b[39m\u001b[38;5;124m\"\u001b[39m] \u001b[38;5;241m=\u001b[39m path\n",
      "\u001b[0;31mValueError\u001b[0m: The path is not a valid file: /path/to/geckodriver",
      "\nThe above exception was the direct cause of the following exception:\n",
      "\u001b[0;31mNoSuchDriverException\u001b[0m                     Traceback (most recent call last)",
      "Cell \u001b[0;32mIn[1], line 73\u001b[0m\n\u001b[1;32m     70\u001b[0m url \u001b[38;5;241m=\u001b[39m \u001b[38;5;124m\"\u001b[39m\u001b[38;5;124mhttps://www.nobroker.in/flats-for-rent-in-pune_pune\u001b[39m\u001b[38;5;124m\"\u001b[39m\n\u001b[1;32m     72\u001b[0m \u001b[38;5;66;03m# Call the function to scrape data\u001b[39;00m\n\u001b[0;32m---> 73\u001b[0m \u001b[43mscrape_NoBroker\u001b[49m\u001b[43m(\u001b[49m\u001b[43murl\u001b[49m\u001b[43m)\u001b[49m\n",
      "Cell \u001b[0;32mIn[1], line 31\u001b[0m, in \u001b[0;36mscrape_NoBroker\u001b[0;34m(url)\u001b[0m\n\u001b[1;32m     29\u001b[0m options \u001b[38;5;241m=\u001b[39m webdriver\u001b[38;5;241m.\u001b[39mFirefoxOptions()\n\u001b[1;32m     30\u001b[0m options\u001b[38;5;241m.\u001b[39mbinary_location \u001b[38;5;241m=\u001b[39m \u001b[38;5;124m'\u001b[39m\u001b[38;5;124m/path/to/firefox\u001b[39m\u001b[38;5;124m'\u001b[39m  \u001b[38;5;66;03m# Replace with actual path\u001b[39;00m\n\u001b[0;32m---> 31\u001b[0m driver \u001b[38;5;241m=\u001b[39m \u001b[43mwebdriver\u001b[49m\u001b[38;5;241;43m.\u001b[39;49m\u001b[43mFirefox\u001b[49m\u001b[43m(\u001b[49m\u001b[43mservice\u001b[49m\u001b[38;5;241;43m=\u001b[39;49m\u001b[43mservice\u001b[49m\u001b[43m,\u001b[49m\u001b[43m \u001b[49m\u001b[43moptions\u001b[49m\u001b[38;5;241;43m=\u001b[39;49m\u001b[43moptions\u001b[49m\u001b[43m)\u001b[49m\n\u001b[1;32m     33\u001b[0m \u001b[38;5;28;01mtry\u001b[39;00m:\n\u001b[1;32m     34\u001b[0m     driver\u001b[38;5;241m.\u001b[39mget(url)\n",
      "File \u001b[0;32m~/.local/lib/python3.10/site-packages/selenium/webdriver/firefox/webdriver.py:60\u001b[0m, in \u001b[0;36mWebDriver.__init__\u001b[0;34m(self, options, service, keep_alive)\u001b[0m\n\u001b[1;32m     57\u001b[0m options \u001b[38;5;241m=\u001b[39m options \u001b[38;5;28;01mif\u001b[39;00m options \u001b[38;5;28;01melse\u001b[39;00m Options()\n\u001b[1;32m     59\u001b[0m finder \u001b[38;5;241m=\u001b[39m DriverFinder(\u001b[38;5;28mself\u001b[39m\u001b[38;5;241m.\u001b[39mservice, options)\n\u001b[0;32m---> 60\u001b[0m \u001b[38;5;28;01mif\u001b[39;00m \u001b[43mfinder\u001b[49m\u001b[38;5;241;43m.\u001b[39;49m\u001b[43mget_browser_path\u001b[49m\u001b[43m(\u001b[49m\u001b[43m)\u001b[49m:\n\u001b[1;32m     61\u001b[0m     options\u001b[38;5;241m.\u001b[39mbinary_location \u001b[38;5;241m=\u001b[39m finder\u001b[38;5;241m.\u001b[39mget_browser_path()\n\u001b[1;32m     62\u001b[0m     options\u001b[38;5;241m.\u001b[39mbrowser_version \u001b[38;5;241m=\u001b[39m \u001b[38;5;28;01mNone\u001b[39;00m\n",
      "File \u001b[0;32m~/.local/lib/python3.10/site-packages/selenium/webdriver/common/driver_finder.py:47\u001b[0m, in \u001b[0;36mDriverFinder.get_browser_path\u001b[0;34m(self)\u001b[0m\n\u001b[1;32m     46\u001b[0m \u001b[38;5;28;01mdef\u001b[39;00m \u001b[38;5;21mget_browser_path\u001b[39m(\u001b[38;5;28mself\u001b[39m) \u001b[38;5;241m-\u001b[39m\u001b[38;5;241m>\u001b[39m \u001b[38;5;28mstr\u001b[39m:\n\u001b[0;32m---> 47\u001b[0m     \u001b[38;5;28;01mreturn\u001b[39;00m \u001b[38;5;28;43mself\u001b[39;49m\u001b[38;5;241;43m.\u001b[39;49m\u001b[43m_binary_paths\u001b[49m\u001b[43m(\u001b[49m\u001b[43m)\u001b[49m[\u001b[38;5;124m\"\u001b[39m\u001b[38;5;124mbrowser_path\u001b[39m\u001b[38;5;124m\"\u001b[39m]\n",
      "File \u001b[0;32m~/.local/lib/python3.10/site-packages/selenium/webdriver/common/driver_finder.py:78\u001b[0m, in \u001b[0;36mDriverFinder._binary_paths\u001b[0;34m(self)\u001b[0m\n\u001b[1;32m     76\u001b[0m \u001b[38;5;28;01mexcept\u001b[39;00m \u001b[38;5;167;01mException\u001b[39;00m \u001b[38;5;28;01mas\u001b[39;00m err:\n\u001b[1;32m     77\u001b[0m     msg \u001b[38;5;241m=\u001b[39m \u001b[38;5;124mf\u001b[39m\u001b[38;5;124m\"\u001b[39m\u001b[38;5;124mUnable to obtain driver for \u001b[39m\u001b[38;5;132;01m{\u001b[39;00mbrowser\u001b[38;5;132;01m}\u001b[39;00m\u001b[38;5;124m\"\u001b[39m\n\u001b[0;32m---> 78\u001b[0m     \u001b[38;5;28;01mraise\u001b[39;00m NoSuchDriverException(msg) \u001b[38;5;28;01mfrom\u001b[39;00m \u001b[38;5;21;01merr\u001b[39;00m\n\u001b[1;32m     79\u001b[0m \u001b[38;5;28;01mreturn\u001b[39;00m \u001b[38;5;28mself\u001b[39m\u001b[38;5;241m.\u001b[39m_paths\n",
      "\u001b[0;31mNoSuchDriverException\u001b[0m: Message: Unable to obtain driver for firefox; For documentation on this error, please visit: https://www.selenium.dev/documentation/webdriver/troubleshooting/errors/driver_location\n"
     ]
    }
   ],
   "source": [
    "from selenium import webdriver\n",
    "from selenium.webdriver.firefox.service import Service\n",
    "from selenium.webdriver.common.by import By\n",
    "import pandas as pd\n",
    "import time\n",
    "\n",
    "# Creating time string to give file name\n",
    "timestr = time.strftime(\"%Y%m%d-%H%M%S\")\n",
    "\n",
    "# Function to scrape\n",
    "def scrape_NoBroker(url):\n",
    "    print(f'Starting scraping from URL: {url}')\n",
    "\n",
    "    BHK = []\n",
    "    Area = []\n",
    "    Latitude = []\n",
    "    Longitude = []\n",
    "    Size = []\n",
    "    Deposit = []\n",
    "    Rent = []\n",
    "    Type = []\n",
    "    Age = []\n",
    "    For = []\n",
    "    Possesion = []\n",
    "    Link = []\n",
    "\n",
    "    # Start the browser\n",
    "    service = Service(executable_path='/path/to/geckodriver')  # Replace with actual path\n",
    "    options = webdriver.FirefoxOptions()\n",
    "    options.binary_location = '/path/to/firefox'  # Replace with actual path\n",
    "    driver = webdriver.Firefox(service=service, options=options)\n",
    "\n",
    "    try:\n",
    "        driver.get(url)\n",
    "        time.sleep(5)  # Let the page load\n",
    "\n",
    "        # Extract data from the page\n",
    "        houses = driver.find_elements(By.CLASS_NAME, \"card\")\n",
    "\n",
    "        for house in houses:\n",
    "            BHK.append(house.find_element(By.CLASS_NAME, 'card-title').text[0])\n",
    "            Area.append(house.find_element(By.CLASS_NAME, 'card-title').text.split(',')[-1])\n",
    "            Latitude.append(house.find_element(By.CSS_SELECTOR, 'meta[itemprop=\"latitude\"]').get_attribute('content'))\n",
    "            Longitude.append(house.find_element(By.CSS_SELECTOR, 'meta[itemprop=\"longitude\"]').get_attribute('content'))\n",
    "            Size.append(house.find_elements(By.CSS_SELECTOR, 'meta[itemprop=\"value\"]')[0].get_attribute('content'))\n",
    "            Deposit.append(house.find_elements(By.CSS_SELECTOR, 'meta[itemprop=\"value\"]')[1].get_attribute('content'))\n",
    "            Rent.append(house.find_elements(By.CSS_SELECTOR, 'meta[itemprop=\"value\"]')[2].get_attribute('content'))\n",
    "            Type.append(house.find_elements(By.CLASS_NAME, \"detail-summary\")[0].text)\n",
    "            Age.append(house.find_elements(By.CLASS_NAME, \"detail-summary\")[1].text)\n",
    "            For.append(house.find_elements(By.CLASS_NAME, \"detail-summary\")[2].text)\n",
    "            Possesion.append(house.find_elements(By.CLASS_NAME, \"detail-summary\")[3].text)\n",
    "            Link.append(house.find_element(By.CLASS_NAME, 'card-title').get_attribute('href'))\n",
    "    except Exception as e:\n",
    "        print(f\"Error: {e}\")\n",
    "    finally:\n",
    "        # Creating DataFrame and storing data\n",
    "        df = pd.DataFrame(list(zip(BHK, Area, Latitude, Longitude, Size, Deposit, Rent, Type, Age, For, Possesion, Link)),\n",
    "                          columns=['BHK', 'Address', 'Latitude', 'Longitude', 'Size(Acres)', 'Deposit(Rs)', 'Rent(Rs)',\n",
    "                                   'Furnishing', 'Property Age', 'Available For', ' Immediate Possesion', 'Link'])\n",
    "\n",
    "        # Exporting DataFrame in form of CSV file\n",
    "        File_name = \"House_Data_\" + timestr + \".csv\"\n",
    "        df.to_csv(File_name, index=False)\n",
    "        print(\"File Exported Successfully!!!!\")\n",
    "\n",
    "        # Close the browser\n",
    "        driver.quit()\n",
    "\n",
    "# URL to scrape\n",
    "url = \"https://www.nobroker.in/flats-for-rent-in-pune_pune\"\n",
    "\n",
    "# Call the function to scrape data\n",
    "scrape_NoBroker(url)\n"
   ]
  },
  {
   "cell_type": "code",
   "execution_count": null,
   "id": "5ea736de-79ea-4d20-990a-112dc6c09ca3",
   "metadata": {},
   "outputs": [],
   "source": []
  }
 ],
 "metadata": {
  "kernelspec": {
   "display_name": "Python 3 (ipykernel)",
   "language": "python",
   "name": "python3"
  },
  "language_info": {
   "codemirror_mode": {
    "name": "ipython",
    "version": 3
   },
   "file_extension": ".py",
   "mimetype": "text/x-python",
   "name": "python",
   "nbconvert_exporter": "python",
   "pygments_lexer": "ipython3",
   "version": "3.10.12"
  }
 },
 "nbformat": 4,
 "nbformat_minor": 5
}
